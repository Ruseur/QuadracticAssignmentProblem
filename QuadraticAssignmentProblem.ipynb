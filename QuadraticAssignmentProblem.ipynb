{
 "cells": [
  {
   "cell_type": "markdown",
   "metadata": {},
   "source": [
    "# Projet Quadratic Assignment Problem\n",
    "\n",
    "*Antoine PERRIN & Matthieu CAYET*"
   ]
  },
  {
   "cell_type": "code",
   "execution_count": 1,
   "metadata": {},
   "outputs": [],
   "source": [
    "# Appelles techniques\n",
    "\n",
    "from ipywidgets import interact, interactive, fixed, interact_manual\n",
    "import ipywidgets as widgets\n",
    "from IPython.display import display\n"
   ]
  },
  {
   "cell_type": "markdown",
   "metadata": {},
   "source": [
    "## Jeux de données"
   ]
  },
  {
   "cell_type": "markdown",
   "metadata": {},
   "source": [
    "Pour ce projet, nous avons utilisé les [instances \"Tai..a\" de Taillard](http://anjos.mgi.polymtl.ca/qaplib/inst.html#Ta). Chaque instance est caractérisé par:\n",
    "* un nombre *n* équivalent à la taille de l'instance\n",
    "* une matrice de distances *A*\n",
    "* une matrice de flux (ou de poids) *B*\n",
    "\n",
    "Nous utilisons les instances suivantes:\n",
    "* Tai12a\n",
    "* Tai15a\n",
    "* Tai17a\n",
    "* Tai20a\n",
    "* Tai25a\n",
    "* Tai30a\n",
    "* Tai35a\n",
    "* Tai40a\n",
    "* Tai50a\n",
    "* Tai60a\n",
    "* Tai80a\n",
    "* Tai100a"
   ]
  },
  {
   "cell_type": "markdown",
   "metadata": {},
   "source": [
    "### Exemple d'instance Taillard 12"
   ]
  },
  {
   "cell_type": "code",
   "execution_count": 2,
   "metadata": {},
   "outputs": [],
   "source": [
    "import pandas as pd\n",
    "from Models.TaillardParser import TaillardParser as tp\n",
    "\n",
    "tai12a = tp('tai12a.dat')"
   ]
  },
  {
   "cell_type": "markdown",
   "metadata": {},
   "source": [
    "#### Matrice de distance"
   ]
  },
  {
   "cell_type": "code",
   "execution_count": 3,
   "metadata": {},
   "outputs": [
    {
     "data": {
      "text/html": [
       "<div>\n",
       "<style scoped>\n",
       "    .dataframe tbody tr th:only-of-type {\n",
       "        vertical-align: middle;\n",
       "    }\n",
       "\n",
       "    .dataframe tbody tr th {\n",
       "        vertical-align: top;\n",
       "    }\n",
       "\n",
       "    .dataframe thead th {\n",
       "        text-align: right;\n",
       "    }\n",
       "</style>\n",
       "<table border=\"1\" class=\"dataframe\">\n",
       "  <thead>\n",
       "    <tr style=\"text-align: right;\">\n",
       "      <th></th>\n",
       "      <th>0</th>\n",
       "      <th>1</th>\n",
       "      <th>2</th>\n",
       "      <th>3</th>\n",
       "      <th>4</th>\n",
       "      <th>5</th>\n",
       "      <th>6</th>\n",
       "      <th>7</th>\n",
       "      <th>8</th>\n",
       "      <th>9</th>\n",
       "      <th>10</th>\n",
       "      <th>11</th>\n",
       "    </tr>\n",
       "  </thead>\n",
       "  <tbody>\n",
       "    <tr>\n",
       "      <th>0</th>\n",
       "      <td>0</td>\n",
       "      <td>27</td>\n",
       "      <td>85</td>\n",
       "      <td>2</td>\n",
       "      <td>1</td>\n",
       "      <td>15</td>\n",
       "      <td>11</td>\n",
       "      <td>35</td>\n",
       "      <td>11</td>\n",
       "      <td>20</td>\n",
       "      <td>21</td>\n",
       "      <td>61</td>\n",
       "    </tr>\n",
       "    <tr>\n",
       "      <th>1</th>\n",
       "      <td>27</td>\n",
       "      <td>0</td>\n",
       "      <td>80</td>\n",
       "      <td>58</td>\n",
       "      <td>21</td>\n",
       "      <td>76</td>\n",
       "      <td>72</td>\n",
       "      <td>44</td>\n",
       "      <td>85</td>\n",
       "      <td>94</td>\n",
       "      <td>90</td>\n",
       "      <td>51</td>\n",
       "    </tr>\n",
       "    <tr>\n",
       "      <th>2</th>\n",
       "      <td>85</td>\n",
       "      <td>80</td>\n",
       "      <td>0</td>\n",
       "      <td>3</td>\n",
       "      <td>48</td>\n",
       "      <td>29</td>\n",
       "      <td>90</td>\n",
       "      <td>66</td>\n",
       "      <td>41</td>\n",
       "      <td>15</td>\n",
       "      <td>83</td>\n",
       "      <td>96</td>\n",
       "    </tr>\n",
       "    <tr>\n",
       "      <th>3</th>\n",
       "      <td>2</td>\n",
       "      <td>58</td>\n",
       "      <td>3</td>\n",
       "      <td>0</td>\n",
       "      <td>74</td>\n",
       "      <td>45</td>\n",
       "      <td>65</td>\n",
       "      <td>40</td>\n",
       "      <td>54</td>\n",
       "      <td>83</td>\n",
       "      <td>14</td>\n",
       "      <td>71</td>\n",
       "    </tr>\n",
       "    <tr>\n",
       "      <th>4</th>\n",
       "      <td>1</td>\n",
       "      <td>21</td>\n",
       "      <td>48</td>\n",
       "      <td>74</td>\n",
       "      <td>0</td>\n",
       "      <td>77</td>\n",
       "      <td>36</td>\n",
       "      <td>53</td>\n",
       "      <td>37</td>\n",
       "      <td>26</td>\n",
       "      <td>87</td>\n",
       "      <td>76</td>\n",
       "    </tr>\n",
       "    <tr>\n",
       "      <th>5</th>\n",
       "      <td>15</td>\n",
       "      <td>76</td>\n",
       "      <td>29</td>\n",
       "      <td>45</td>\n",
       "      <td>77</td>\n",
       "      <td>0</td>\n",
       "      <td>91</td>\n",
       "      <td>13</td>\n",
       "      <td>29</td>\n",
       "      <td>11</td>\n",
       "      <td>77</td>\n",
       "      <td>32</td>\n",
       "    </tr>\n",
       "    <tr>\n",
       "      <th>6</th>\n",
       "      <td>11</td>\n",
       "      <td>72</td>\n",
       "      <td>90</td>\n",
       "      <td>65</td>\n",
       "      <td>36</td>\n",
       "      <td>91</td>\n",
       "      <td>0</td>\n",
       "      <td>87</td>\n",
       "      <td>67</td>\n",
       "      <td>94</td>\n",
       "      <td>79</td>\n",
       "      <td>2</td>\n",
       "    </tr>\n",
       "    <tr>\n",
       "      <th>7</th>\n",
       "      <td>35</td>\n",
       "      <td>44</td>\n",
       "      <td>66</td>\n",
       "      <td>40</td>\n",
       "      <td>53</td>\n",
       "      <td>13</td>\n",
       "      <td>87</td>\n",
       "      <td>0</td>\n",
       "      <td>10</td>\n",
       "      <td>99</td>\n",
       "      <td>56</td>\n",
       "      <td>70</td>\n",
       "    </tr>\n",
       "    <tr>\n",
       "      <th>8</th>\n",
       "      <td>11</td>\n",
       "      <td>85</td>\n",
       "      <td>41</td>\n",
       "      <td>54</td>\n",
       "      <td>37</td>\n",
       "      <td>29</td>\n",
       "      <td>67</td>\n",
       "      <td>10</td>\n",
       "      <td>0</td>\n",
       "      <td>99</td>\n",
       "      <td>60</td>\n",
       "      <td>4</td>\n",
       "    </tr>\n",
       "    <tr>\n",
       "      <th>9</th>\n",
       "      <td>20</td>\n",
       "      <td>94</td>\n",
       "      <td>15</td>\n",
       "      <td>83</td>\n",
       "      <td>26</td>\n",
       "      <td>11</td>\n",
       "      <td>94</td>\n",
       "      <td>99</td>\n",
       "      <td>99</td>\n",
       "      <td>0</td>\n",
       "      <td>56</td>\n",
       "      <td>2</td>\n",
       "    </tr>\n",
       "    <tr>\n",
       "      <th>10</th>\n",
       "      <td>21</td>\n",
       "      <td>90</td>\n",
       "      <td>83</td>\n",
       "      <td>14</td>\n",
       "      <td>87</td>\n",
       "      <td>77</td>\n",
       "      <td>79</td>\n",
       "      <td>56</td>\n",
       "      <td>60</td>\n",
       "      <td>56</td>\n",
       "      <td>0</td>\n",
       "      <td>60</td>\n",
       "    </tr>\n",
       "    <tr>\n",
       "      <th>11</th>\n",
       "      <td>61</td>\n",
       "      <td>51</td>\n",
       "      <td>96</td>\n",
       "      <td>71</td>\n",
       "      <td>76</td>\n",
       "      <td>32</td>\n",
       "      <td>2</td>\n",
       "      <td>70</td>\n",
       "      <td>4</td>\n",
       "      <td>2</td>\n",
       "      <td>60</td>\n",
       "      <td>0</td>\n",
       "    </tr>\n",
       "  </tbody>\n",
       "</table>\n",
       "</div>"
      ],
      "text/plain": [
       "    0   1   2   3   4   5   6   7   8   9   10  11\n",
       "0    0  27  85   2   1  15  11  35  11  20  21  61\n",
       "1   27   0  80  58  21  76  72  44  85  94  90  51\n",
       "2   85  80   0   3  48  29  90  66  41  15  83  96\n",
       "3    2  58   3   0  74  45  65  40  54  83  14  71\n",
       "4    1  21  48  74   0  77  36  53  37  26  87  76\n",
       "5   15  76  29  45  77   0  91  13  29  11  77  32\n",
       "6   11  72  90  65  36  91   0  87  67  94  79   2\n",
       "7   35  44  66  40  53  13  87   0  10  99  56  70\n",
       "8   11  85  41  54  37  29  67  10   0  99  60   4\n",
       "9   20  94  15  83  26  11  94  99  99   0  56   2\n",
       "10  21  90  83  14  87  77  79  56  60  56   0  60\n",
       "11  61  51  96  71  76  32   2  70   4   2  60   0"
      ]
     },
     "execution_count": 3,
     "metadata": {},
     "output_type": "execute_result"
    }
   ],
   "source": [
    "pd.DataFrame(tai12a.get_distance_matrix())"
   ]
  },
  {
   "cell_type": "markdown",
   "metadata": {},
   "source": [
    "#### Matrice de flux"
   ]
  },
  {
   "cell_type": "code",
   "execution_count": 4,
   "metadata": {},
   "outputs": [
    {
     "data": {
      "text/html": [
       "<div>\n",
       "<style scoped>\n",
       "    .dataframe tbody tr th:only-of-type {\n",
       "        vertical-align: middle;\n",
       "    }\n",
       "\n",
       "    .dataframe tbody tr th {\n",
       "        vertical-align: top;\n",
       "    }\n",
       "\n",
       "    .dataframe thead th {\n",
       "        text-align: right;\n",
       "    }\n",
       "</style>\n",
       "<table border=\"1\" class=\"dataframe\">\n",
       "  <thead>\n",
       "    <tr style=\"text-align: right;\">\n",
       "      <th></th>\n",
       "      <th>0</th>\n",
       "      <th>1</th>\n",
       "      <th>2</th>\n",
       "      <th>3</th>\n",
       "      <th>4</th>\n",
       "      <th>5</th>\n",
       "      <th>6</th>\n",
       "      <th>7</th>\n",
       "      <th>8</th>\n",
       "      <th>9</th>\n",
       "      <th>10</th>\n",
       "      <th>11</th>\n",
       "    </tr>\n",
       "  </thead>\n",
       "  <tbody>\n",
       "    <tr>\n",
       "      <th>0</th>\n",
       "      <td>0</td>\n",
       "      <td>21</td>\n",
       "      <td>95</td>\n",
       "      <td>82</td>\n",
       "      <td>56</td>\n",
       "      <td>41</td>\n",
       "      <td>6</td>\n",
       "      <td>25</td>\n",
       "      <td>10</td>\n",
       "      <td>4</td>\n",
       "      <td>63</td>\n",
       "      <td>6.0</td>\n",
       "    </tr>\n",
       "    <tr>\n",
       "      <th>1</th>\n",
       "      <td>21</td>\n",
       "      <td>0</td>\n",
       "      <td>44</td>\n",
       "      <td>40</td>\n",
       "      <td>75</td>\n",
       "      <td>79</td>\n",
       "      <td>0</td>\n",
       "      <td>89</td>\n",
       "      <td>35</td>\n",
       "      <td>9</td>\n",
       "      <td>1</td>\n",
       "      <td>85.0</td>\n",
       "    </tr>\n",
       "    <tr>\n",
       "      <th>2</th>\n",
       "      <td>95</td>\n",
       "      <td>44</td>\n",
       "      <td>0</td>\n",
       "      <td>84</td>\n",
       "      <td>12</td>\n",
       "      <td>0</td>\n",
       "      <td>26</td>\n",
       "      <td>91</td>\n",
       "      <td>11</td>\n",
       "      <td>35</td>\n",
       "      <td>82</td>\n",
       "      <td>26.0</td>\n",
       "    </tr>\n",
       "    <tr>\n",
       "      <th>3</th>\n",
       "      <td>82</td>\n",
       "      <td>40</td>\n",
       "      <td>84</td>\n",
       "      <td>0</td>\n",
       "      <td>69</td>\n",
       "      <td>56</td>\n",
       "      <td>86</td>\n",
       "      <td>45</td>\n",
       "      <td>91</td>\n",
       "      <td>59</td>\n",
       "      <td>18</td>\n",
       "      <td>76.0</td>\n",
       "    </tr>\n",
       "    <tr>\n",
       "      <th>4</th>\n",
       "      <td>56</td>\n",
       "      <td>75</td>\n",
       "      <td>12</td>\n",
       "      <td>69</td>\n",
       "      <td>0</td>\n",
       "      <td>39</td>\n",
       "      <td>18</td>\n",
       "      <td>57</td>\n",
       "      <td>36</td>\n",
       "      <td>61</td>\n",
       "      <td>36</td>\n",
       "      <td>21.0</td>\n",
       "    </tr>\n",
       "    <tr>\n",
       "      <th>5</th>\n",
       "      <td>41</td>\n",
       "      <td>79</td>\n",
       "      <td>0</td>\n",
       "      <td>56</td>\n",
       "      <td>39</td>\n",
       "      <td>0</td>\n",
       "      <td>71</td>\n",
       "      <td>11</td>\n",
       "      <td>29</td>\n",
       "      <td>82</td>\n",
       "      <td>82</td>\n",
       "      <td>6.0</td>\n",
       "    </tr>\n",
       "    <tr>\n",
       "      <th>6</th>\n",
       "      <td>6</td>\n",
       "      <td>0</td>\n",
       "      <td>26</td>\n",
       "      <td>86</td>\n",
       "      <td>18</td>\n",
       "      <td>71</td>\n",
       "      <td>0</td>\n",
       "      <td>71</td>\n",
       "      <td>8</td>\n",
       "      <td>77</td>\n",
       "      <td>74</td>\n",
       "      <td>30.0</td>\n",
       "    </tr>\n",
       "    <tr>\n",
       "      <th>7</th>\n",
       "      <td>25</td>\n",
       "      <td>89</td>\n",
       "      <td>91</td>\n",
       "      <td>45</td>\n",
       "      <td>57</td>\n",
       "      <td>11</td>\n",
       "      <td>71</td>\n",
       "      <td>0</td>\n",
       "      <td>89</td>\n",
       "      <td>76</td>\n",
       "      <td>76</td>\n",
       "      <td>40.0</td>\n",
       "    </tr>\n",
       "    <tr>\n",
       "      <th>8</th>\n",
       "      <td>10</td>\n",
       "      <td>35</td>\n",
       "      <td>11</td>\n",
       "      <td>91</td>\n",
       "      <td>36</td>\n",
       "      <td>29</td>\n",
       "      <td>8</td>\n",
       "      <td>89</td>\n",
       "      <td>0</td>\n",
       "      <td>93</td>\n",
       "      <td>56</td>\n",
       "      <td>1.0</td>\n",
       "    </tr>\n",
       "    <tr>\n",
       "      <th>9</th>\n",
       "      <td>4</td>\n",
       "      <td>9</td>\n",
       "      <td>35</td>\n",
       "      <td>59</td>\n",
       "      <td>61</td>\n",
       "      <td>82</td>\n",
       "      <td>77</td>\n",
       "      <td>76</td>\n",
       "      <td>93</td>\n",
       "      <td>0</td>\n",
       "      <td>50</td>\n",
       "      <td>4.0</td>\n",
       "    </tr>\n",
       "    <tr>\n",
       "      <th>10</th>\n",
       "      <td>63</td>\n",
       "      <td>1</td>\n",
       "      <td>82</td>\n",
       "      <td>18</td>\n",
       "      <td>36</td>\n",
       "      <td>82</td>\n",
       "      <td>74</td>\n",
       "      <td>76</td>\n",
       "      <td>56</td>\n",
       "      <td>50</td>\n",
       "      <td>0</td>\n",
       "      <td>36.0</td>\n",
       "    </tr>\n",
       "    <tr>\n",
       "      <th>11</th>\n",
       "      <td>6</td>\n",
       "      <td>85</td>\n",
       "      <td>26</td>\n",
       "      <td>76</td>\n",
       "      <td>21</td>\n",
       "      <td>6</td>\n",
       "      <td>30</td>\n",
       "      <td>40</td>\n",
       "      <td>1</td>\n",
       "      <td>4</td>\n",
       "      <td>36</td>\n",
       "      <td>NaN</td>\n",
       "    </tr>\n",
       "  </tbody>\n",
       "</table>\n",
       "</div>"
      ],
      "text/plain": [
       "    0   1   2   3   4   5   6   7   8   9   10    11\n",
       "0    0  21  95  82  56  41   6  25  10   4  63   6.0\n",
       "1   21   0  44  40  75  79   0  89  35   9   1  85.0\n",
       "2   95  44   0  84  12   0  26  91  11  35  82  26.0\n",
       "3   82  40  84   0  69  56  86  45  91  59  18  76.0\n",
       "4   56  75  12  69   0  39  18  57  36  61  36  21.0\n",
       "5   41  79   0  56  39   0  71  11  29  82  82   6.0\n",
       "6    6   0  26  86  18  71   0  71   8  77  74  30.0\n",
       "7   25  89  91  45  57  11  71   0  89  76  76  40.0\n",
       "8   10  35  11  91  36  29   8  89   0  93  56   1.0\n",
       "9    4   9  35  59  61  82  77  76  93   0  50   4.0\n",
       "10  63   1  82  18  36  82  74  76  56  50   0  36.0\n",
       "11   6  85  26  76  21   6  30  40   1   4  36   NaN"
      ]
     },
     "execution_count": 4,
     "metadata": {},
     "output_type": "execute_result"
    }
   ],
   "source": [
    "pd.DataFrame(tai12a.get_connexion_matrix())"
   ]
  },
  {
   "cell_type": "markdown",
   "metadata": {},
   "source": [
    "## Voisinage"
   ]
  },
  {
   "cell_type": "markdown",
   "metadata": {},
   "source": [
    "Afin de varier les résultats possibles, nous avons implémenter plusieurs manières de calculer le voisinage d'un élement.\n",
    "\n",
    "*Par soucis de compéhension, l'ensemble des exemples de cette partie se font sur l'instance Tai12a.*"
   ]
  },
  {
   "cell_type": "code",
   "execution_count": 5,
   "metadata": {},
   "outputs": [],
   "source": [
    "from Services.Voisinage import Voisinage as vn"
   ]
  },
  {
   "cell_type": "markdown",
   "metadata": {},
   "source": [
    "### Voisinage par distance"
   ]
  },
  {
   "cell_type": "markdown",
   "metadata": {},
   "source": [
    "Ce fut notre première manière d'implémenter le voisinage.\n",
    "\n",
    "Son principe est simple. Nous intervertissons uniquement les éléments dont la distance est inférieur à la distance maximale définie.\n",
    "\n",
    "La méthode `get_permutations_by_distances` nous permet de calculer à l'avance la liste des emplacements à échanger à chaque nouveau calcul de voisinage."
   ]
  },
  {
   "cell_type": "markdown",
   "metadata": {},
   "source": [
    "#### Exemple"
   ]
  },
  {
   "cell_type": "code",
   "execution_count": 6,
   "metadata": {},
   "outputs": [
    {
     "data": {
      "application/vnd.jupyter.widget-view+json": {
       "model_id": "0ed90f1d1b2949969db5777f58f6bfaa",
       "version_major": 2,
       "version_minor": 0
      },
      "text/plain": [
       "interactive(children=(IntSlider(value=50, description='distance', min=1), Output()), _dom_classes=('widget-int…"
      ]
     },
     "metadata": {},
     "output_type": "display_data"
    }
   ],
   "source": [
    "vn_distance = vn(tai12a.get_distance_matrix(),\"distances\",1)\n",
    "def show_vn_distance(vn,distance):\n",
    "    df = pd.DataFrame(vn.get_permutations_by_distances(vn.distances, distance), columns=['a','b'])\n",
    "    print(df.to_string(index=False))\n",
    "\n",
    "display(interactive(show_vn_distance, vn=fixed(vn_distance), distance=(1,100)))"
   ]
  },
  {
   "cell_type": "markdown",
   "metadata": {},
   "source": [
    "Nous récupérons ainsi la liste des éléments ayant une distance inférieure à la distance sélectionnée."
   ]
  },
  {
   "cell_type": "markdown",
   "metadata": {},
   "source": [
    "#### Avantages"
   ]
  },
  {
   "cell_type": "markdown",
   "metadata": {},
   "source": [
    "Le gros avantage de cette technique est qu'elle rapide puisqu'elle necessite de parcour la matrice de distance qu'une seule fois.\n",
    "\n",
    "De plus, il est facile ce mode de sélection puisque nous cherchons la liste des emplacements \"physiquements\" proches."
   ]
  },
  {
   "cell_type": "markdown",
   "metadata": {},
   "source": [
    "#### Inconvénients"
   ]
  },
  {
   "cell_type": "markdown",
   "metadata": {},
   "source": [
    "Nous avons trouvé plusieurs inconvénients à cette méthode.\n",
    "\n",
    "La première est qu'il se peut que des emplacements ne soient jamais sélectionner si leur distance minimale est supérieur à la distance sélectionnée.\n",
    "\n",
    "Ensuite, avec un nombre plus importants de emplacements, notre tableau risque de grossir énormément vite."
   ]
  },
  {
   "cell_type": "markdown",
   "metadata": {},
   "source": [
    "### Voisinage aléatoire"
   ]
  },
  {
   "cell_type": "markdown",
   "metadata": {},
   "source": [
    "Nous tirons aléatoirement une liste de permutations parmit toutes les permutations de l'instance."
   ]
  },
  {
   "cell_type": "markdown",
   "metadata": {},
   "source": [
    "#### Exemple"
   ]
  },
  {
   "cell_type": "code",
   "execution_count": 9,
   "metadata": {},
   "outputs": [
    {
     "data": {
      "application/vnd.jupyter.widget-view+json": {
       "model_id": "211699c7fde14d9e88cec212784a0760",
       "version_major": 2,
       "version_minor": 0
      },
      "text/plain": [
       "interactive(children=(IntSlider(value=33, description='taille', max=65, min=1), Output()), _dom_classes=('widg…"
      ]
     },
     "metadata": {},
     "output_type": "display_data"
    }
   ],
   "source": [
    "vn_random = vn(tai12a.get_distance_matrix(),\"random\",1)\n",
    "\n",
    "def show_vn_random(vn,taille):\n",
    "    df = pd.DataFrame(vn.get_permutations_random(vn.distances, taille), columns=['a','b'])\n",
    "    print(df.to_string(index=False))\n",
    "\n",
    "display(interactive(show_vn_random, vn=fixed(vn_random), taille=(1,65)))"
   ]
  },
  {
   "cell_type": "markdown",
   "metadata": {},
   "source": [
    "#### Avantages"
   ]
  },
  {
   "cell_type": "markdown",
   "metadata": {},
   "source": [
    "Chaque emplacements à la meme probabilité d'apparaitre dans une liste de voisins meme s'il est isolé des autres emplacements."
   ]
  },
  {
   "cell_type": "markdown",
   "metadata": {},
   "source": [
    "#### Inconvénients"
   ]
  },
  {
   "cell_type": "markdown",
   "metadata": {},
   "source": [
    "Fonctionnement non déterministe, nous ne pouvons pas assurer qu'un emplacement soit visiter au moins une fois."
   ]
  },
  {
   "cell_type": "markdown",
   "metadata": {},
   "source": [
    "### Voisinage complet"
   ]
  },
  {
   "cell_type": "markdown",
   "metadata": {},
   "source": [
    "Nous récupérons l'ensemble des possiblités de permutations de notre instance."
   ]
  },
  {
   "cell_type": "markdown",
   "metadata": {},
   "source": [
    "#### Exemple"
   ]
  },
  {
   "cell_type": "code",
   "execution_count": 13,
   "metadata": {},
   "outputs": [
    {
     "data": {
      "application/vnd.jupyter.widget-view+json": {
       "model_id": "17ec9d7b64534a8e818c0efcf20d66ea",
       "version_major": 2,
       "version_minor": 0
      },
      "text/plain": [
       "interactive(children=(Output(),), _dom_classes=('widget-interact',))"
      ]
     },
     "metadata": {},
     "output_type": "display_data"
    }
   ],
   "source": [
    "vn_default = vn(tai12a.get_distance_matrix())\n",
    "\n",
    "def show_vn_default(vn):\n",
    "    df = pd.DataFrame(vn.get_permutations(vn.distances), columns=['a','b'])\n",
    "    print(df.to_string(index=False))\n",
    "\n",
    "display(interactive(show_vn_default, vn=fixed(vn_default)))"
   ]
  },
  {
   "cell_type": "markdown",
   "metadata": {},
   "source": [
    "#### Avantages"
   ]
  },
  {
   "cell_type": "markdown",
   "metadata": {},
   "source": [
    "Cette façon de calculer les voisins est déterministe. Nous sommes sur que l'ensemble des voisins soient visiter."
   ]
  },
  {
   "cell_type": "markdown",
   "metadata": {},
   "source": [
    "#### Inconvénients"
   ]
  },
  {
   "cell_type": "markdown",
   "metadata": {},
   "source": [
    "Cette façon de faire est lourde et la liste grandit de façon exponentielle suivant le nombre d'emplacements total."
   ]
  },
  {
   "cell_type": "code",
   "execution_count": null,
   "metadata": {},
   "outputs": [],
   "source": []
  },
  {
   "cell_type": "code",
   "execution_count": 8,
   "metadata": {},
   "outputs": [
    {
     "ename": "NameError",
     "evalue": "name 'Voisinage' is not defined",
     "output_type": "error",
     "traceback": [
      "\u001b[0;31m---------------------------------------------------------------------------\u001b[0m",
      "\u001b[0;31mNameError\u001b[0m                                 Traceback (most recent call last)",
      "\u001b[0;32m<ipython-input-8-54f1f310ff53>\u001b[0m in \u001b[0;36m<module>\u001b[0;34m\u001b[0m\n\u001b[0;32m----> 1\u001b[0;31m \u001b[0mvoisinage\u001b[0m \u001b[0;34m=\u001b[0m \u001b[0mVoisinage\u001b[0m\u001b[0;34m(\u001b[0m\u001b[0mdistances\u001b[0m\u001b[0;34m)\u001b[0m\u001b[0;34m\u001b[0m\u001b[0;34m\u001b[0m\u001b[0m\n\u001b[0m\u001b[1;32m      2\u001b[0m \u001b[0mx\u001b[0m \u001b[0;34m=\u001b[0m \u001b[0mvoisinage\u001b[0m\u001b[0;34m.\u001b[0m\u001b[0mget_random_x\u001b[0m\u001b[0;34m(\u001b[0m\u001b[0;34m)\u001b[0m\u001b[0;34m\u001b[0m\u001b[0;34m\u001b[0m\u001b[0m\n\u001b[1;32m      3\u001b[0m \u001b[0mfitness\u001b[0m \u001b[0;34m=\u001b[0m \u001b[0mFitness\u001b[0m\u001b[0;34m(\u001b[0m\u001b[0mconnexions\u001b[0m\u001b[0;34m,\u001b[0m \u001b[0mdistances\u001b[0m\u001b[0;34m)\u001b[0m\u001b[0;34m\u001b[0m\u001b[0;34m\u001b[0m\u001b[0m\n\u001b[1;32m      4\u001b[0m \u001b[0mtabou\u001b[0m \u001b[0;34m=\u001b[0m \u001b[0mTabou\u001b[0m\u001b[0;34m(\u001b[0m\u001b[0mdistances\u001b[0m\u001b[0;34m,\u001b[0m \u001b[0mconnexions\u001b[0m\u001b[0;34m,\u001b[0m \u001b[0mvoisinage\u001b[0m\u001b[0;34m,\u001b[0m \u001b[0mfitness\u001b[0m\u001b[0;34m)\u001b[0m\u001b[0;34m\u001b[0m\u001b[0;34m\u001b[0m\u001b[0m\n\u001b[1;32m      5\u001b[0m \u001b[0mprint\u001b[0m\u001b[0;34m(\u001b[0m\u001b[0mx\u001b[0m\u001b[0;34m)\u001b[0m\u001b[0;34m\u001b[0m\u001b[0;34m\u001b[0m\u001b[0m\n",
      "\u001b[0;31mNameError\u001b[0m: name 'Voisinage' is not defined"
     ]
    }
   ],
   "source": [
    "voisinage = Voisinage(distances)\n",
    "x = voisinage.get_random_x()\n",
    "fitness = Fitness(connexions, distances)\n",
    "tabou = Tabou(distances, connexions, voisinage, fitness)\n",
    "print(x)"
   ]
  },
  {
   "cell_type": "code",
   "execution_count": null,
   "metadata": {},
   "outputs": [],
   "source": [
    "from ipywidgets import interact, interactive, fixed, interact_manual\n",
    "import ipywidgets as widgets\n",
    "from IPython.display import display\n",
    "from Services.Tabou import Tabou as tb\n",
    "# out = interactive_output(voisinage.get_random_x)\n",
    "voisinage = vn(distances)\n",
    "\n",
    "interact_manual(tb.resolve, x=fixed(voisinage.get_random_x()), tabousize=range(0,10), maxIter=range(0,1000,100))\n",
    "\n",
    "print(\"solution optimale: \")\n",
    "print([7,0,5,1,10,9,2,4,8,6,11,3])\n",
    "print(\"Fitness optimale: \")\n",
    "print(fitness.calcul([7,0,5,1,10,9,2,4,8,6,11,3]))"
   ]
  },
  {
   "cell_type": "code",
   "execution_count": null,
   "metadata": {},
   "outputs": [],
   "source": [
    "a = widgets.IntSlider()\n",
    "b = widgets.IntSlider()\n",
    "c = widgets.IntSlider()\n",
    "ui = widgets.HBox([a, b, c])\n",
    "def f(a, b, c):\n",
    "    print((a, b, c))\n",
    "\n",
    "out = widgets.interactive_output(f, {'a': a, 'b': b, 'c': c})\n",
    "\n",
    "display(ui, out)"
   ]
  }
 ],
 "metadata": {
  "celltoolbar": "Raw Cell Format",
  "kernelspec": {
   "display_name": "Python 3",
   "language": "python",
   "name": "python3"
  },
  "language_info": {
   "codemirror_mode": {
    "name": "ipython",
    "version": 3
   },
   "file_extension": ".py",
   "mimetype": "text/x-python",
   "name": "python",
   "nbconvert_exporter": "python",
   "pygments_lexer": "ipython3",
   "version": "3.7.3"
  }
 },
 "nbformat": 4,
 "nbformat_minor": 2
}

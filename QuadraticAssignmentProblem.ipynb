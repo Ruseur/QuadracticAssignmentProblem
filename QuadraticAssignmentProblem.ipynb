{
 "cells": [
  {
   "cell_type": "markdown",
   "metadata": {},
   "source": [
    "# Projet Quadratic Assignment Problem\n",
    "\n",
    "*Antoine PERRIN & Matthieu CAYET*"
   ]
  },
  {
   "cell_type": "code",
   "execution_count": 1,
   "metadata": {},
   "outputs": [],
   "source": [
    "# Appelles techniques\n",
    "\n",
    "from ipywidgets import interact, interactive, fixed, interact_manual\n",
    "import ipywidgets as widgets\n",
    "from IPython.display import display\n",
    "from Services.Fitness import Fitness as ft\n",
    "import numpy as np\n",
    "import matplotlib.pyplot as plt"
   ]
  },
  {
   "cell_type": "markdown",
   "metadata": {},
   "source": [
    "## Présentation"
   ]
  },
  {
   "cell_type": "markdown",
   "metadata": {},
   "source": [
    "### Jeux de données"
   ]
  },
  {
   "cell_type": "markdown",
   "metadata": {},
   "source": [
    "Pour ce projet, nous avons utilisé les [instances \"Tai..a\" de Taillard](http://anjos.mgi.polymtl.ca/qaplib/inst.html#Ta). Chaque instance est caractérisé par:\n",
    "* un nombre *n* équivalent à la taille de l'instance\n",
    "* une matrice de distances *A*\n",
    "* une matrice de flux (ou de poids) *B*\n",
    "\n",
    "Nous utilisons les instances suivantes:\n",
    "* Tai12a\n",
    "* Tai15a\n",
    "* Tai17a\n",
    "* Tai20a\n",
    "* Tai25a\n",
    "* Tai30a\n",
    "* Tai35a\n",
    "* Tai40a\n",
    "* Tai50a\n",
    "* Tai60a\n",
    "* Tai80a\n",
    "* Tai100a"
   ]
  },
  {
   "cell_type": "markdown",
   "metadata": {},
   "source": [
    "#### Exemple d'instance Taillard 12"
   ]
  },
  {
   "cell_type": "code",
   "execution_count": 2,
   "metadata": {},
   "outputs": [],
   "source": [
    "import pandas as pd\n",
    "from Models.TaillardParser import TaillardParser as tp\n",
    "\n",
    "tai12a = tp('tai12a.dat')"
   ]
  },
  {
   "cell_type": "markdown",
   "metadata": {},
   "source": [
    "##### Matrice de distance"
   ]
  },
  {
   "cell_type": "code",
   "execution_count": 3,
   "metadata": {},
   "outputs": [
    {
     "data": {
      "text/html": [
       "<div>\n",
       "<style scoped>\n",
       "    .dataframe tbody tr th:only-of-type {\n",
       "        vertical-align: middle;\n",
       "    }\n",
       "\n",
       "    .dataframe tbody tr th {\n",
       "        vertical-align: top;\n",
       "    }\n",
       "\n",
       "    .dataframe thead th {\n",
       "        text-align: right;\n",
       "    }\n",
       "</style>\n",
       "<table border=\"1\" class=\"dataframe\">\n",
       "  <thead>\n",
       "    <tr style=\"text-align: right;\">\n",
       "      <th></th>\n",
       "      <th>0</th>\n",
       "      <th>1</th>\n",
       "      <th>2</th>\n",
       "      <th>3</th>\n",
       "      <th>4</th>\n",
       "      <th>5</th>\n",
       "      <th>6</th>\n",
       "      <th>7</th>\n",
       "      <th>8</th>\n",
       "      <th>9</th>\n",
       "      <th>10</th>\n",
       "      <th>11</th>\n",
       "    </tr>\n",
       "  </thead>\n",
       "  <tbody>\n",
       "    <tr>\n",
       "      <th>0</th>\n",
       "      <td>0</td>\n",
       "      <td>27</td>\n",
       "      <td>85</td>\n",
       "      <td>2</td>\n",
       "      <td>1</td>\n",
       "      <td>15</td>\n",
       "      <td>11</td>\n",
       "      <td>35</td>\n",
       "      <td>11</td>\n",
       "      <td>20</td>\n",
       "      <td>21</td>\n",
       "      <td>61</td>\n",
       "    </tr>\n",
       "    <tr>\n",
       "      <th>1</th>\n",
       "      <td>27</td>\n",
       "      <td>0</td>\n",
       "      <td>80</td>\n",
       "      <td>58</td>\n",
       "      <td>21</td>\n",
       "      <td>76</td>\n",
       "      <td>72</td>\n",
       "      <td>44</td>\n",
       "      <td>85</td>\n",
       "      <td>94</td>\n",
       "      <td>90</td>\n",
       "      <td>51</td>\n",
       "    </tr>\n",
       "    <tr>\n",
       "      <th>2</th>\n",
       "      <td>85</td>\n",
       "      <td>80</td>\n",
       "      <td>0</td>\n",
       "      <td>3</td>\n",
       "      <td>48</td>\n",
       "      <td>29</td>\n",
       "      <td>90</td>\n",
       "      <td>66</td>\n",
       "      <td>41</td>\n",
       "      <td>15</td>\n",
       "      <td>83</td>\n",
       "      <td>96</td>\n",
       "    </tr>\n",
       "    <tr>\n",
       "      <th>3</th>\n",
       "      <td>2</td>\n",
       "      <td>58</td>\n",
       "      <td>3</td>\n",
       "      <td>0</td>\n",
       "      <td>74</td>\n",
       "      <td>45</td>\n",
       "      <td>65</td>\n",
       "      <td>40</td>\n",
       "      <td>54</td>\n",
       "      <td>83</td>\n",
       "      <td>14</td>\n",
       "      <td>71</td>\n",
       "    </tr>\n",
       "    <tr>\n",
       "      <th>4</th>\n",
       "      <td>1</td>\n",
       "      <td>21</td>\n",
       "      <td>48</td>\n",
       "      <td>74</td>\n",
       "      <td>0</td>\n",
       "      <td>77</td>\n",
       "      <td>36</td>\n",
       "      <td>53</td>\n",
       "      <td>37</td>\n",
       "      <td>26</td>\n",
       "      <td>87</td>\n",
       "      <td>76</td>\n",
       "    </tr>\n",
       "    <tr>\n",
       "      <th>5</th>\n",
       "      <td>15</td>\n",
       "      <td>76</td>\n",
       "      <td>29</td>\n",
       "      <td>45</td>\n",
       "      <td>77</td>\n",
       "      <td>0</td>\n",
       "      <td>91</td>\n",
       "      <td>13</td>\n",
       "      <td>29</td>\n",
       "      <td>11</td>\n",
       "      <td>77</td>\n",
       "      <td>32</td>\n",
       "    </tr>\n",
       "    <tr>\n",
       "      <th>6</th>\n",
       "      <td>11</td>\n",
       "      <td>72</td>\n",
       "      <td>90</td>\n",
       "      <td>65</td>\n",
       "      <td>36</td>\n",
       "      <td>91</td>\n",
       "      <td>0</td>\n",
       "      <td>87</td>\n",
       "      <td>67</td>\n",
       "      <td>94</td>\n",
       "      <td>79</td>\n",
       "      <td>2</td>\n",
       "    </tr>\n",
       "    <tr>\n",
       "      <th>7</th>\n",
       "      <td>35</td>\n",
       "      <td>44</td>\n",
       "      <td>66</td>\n",
       "      <td>40</td>\n",
       "      <td>53</td>\n",
       "      <td>13</td>\n",
       "      <td>87</td>\n",
       "      <td>0</td>\n",
       "      <td>10</td>\n",
       "      <td>99</td>\n",
       "      <td>56</td>\n",
       "      <td>70</td>\n",
       "    </tr>\n",
       "    <tr>\n",
       "      <th>8</th>\n",
       "      <td>11</td>\n",
       "      <td>85</td>\n",
       "      <td>41</td>\n",
       "      <td>54</td>\n",
       "      <td>37</td>\n",
       "      <td>29</td>\n",
       "      <td>67</td>\n",
       "      <td>10</td>\n",
       "      <td>0</td>\n",
       "      <td>99</td>\n",
       "      <td>60</td>\n",
       "      <td>4</td>\n",
       "    </tr>\n",
       "    <tr>\n",
       "      <th>9</th>\n",
       "      <td>20</td>\n",
       "      <td>94</td>\n",
       "      <td>15</td>\n",
       "      <td>83</td>\n",
       "      <td>26</td>\n",
       "      <td>11</td>\n",
       "      <td>94</td>\n",
       "      <td>99</td>\n",
       "      <td>99</td>\n",
       "      <td>0</td>\n",
       "      <td>56</td>\n",
       "      <td>2</td>\n",
       "    </tr>\n",
       "    <tr>\n",
       "      <th>10</th>\n",
       "      <td>21</td>\n",
       "      <td>90</td>\n",
       "      <td>83</td>\n",
       "      <td>14</td>\n",
       "      <td>87</td>\n",
       "      <td>77</td>\n",
       "      <td>79</td>\n",
       "      <td>56</td>\n",
       "      <td>60</td>\n",
       "      <td>56</td>\n",
       "      <td>0</td>\n",
       "      <td>60</td>\n",
       "    </tr>\n",
       "    <tr>\n",
       "      <th>11</th>\n",
       "      <td>61</td>\n",
       "      <td>51</td>\n",
       "      <td>96</td>\n",
       "      <td>71</td>\n",
       "      <td>76</td>\n",
       "      <td>32</td>\n",
       "      <td>2</td>\n",
       "      <td>70</td>\n",
       "      <td>4</td>\n",
       "      <td>2</td>\n",
       "      <td>60</td>\n",
       "      <td>0</td>\n",
       "    </tr>\n",
       "  </tbody>\n",
       "</table>\n",
       "</div>"
      ],
      "text/plain": [
       "    0   1   2   3   4   5   6   7   8   9   10  11\n",
       "0    0  27  85   2   1  15  11  35  11  20  21  61\n",
       "1   27   0  80  58  21  76  72  44  85  94  90  51\n",
       "2   85  80   0   3  48  29  90  66  41  15  83  96\n",
       "3    2  58   3   0  74  45  65  40  54  83  14  71\n",
       "4    1  21  48  74   0  77  36  53  37  26  87  76\n",
       "5   15  76  29  45  77   0  91  13  29  11  77  32\n",
       "6   11  72  90  65  36  91   0  87  67  94  79   2\n",
       "7   35  44  66  40  53  13  87   0  10  99  56  70\n",
       "8   11  85  41  54  37  29  67  10   0  99  60   4\n",
       "9   20  94  15  83  26  11  94  99  99   0  56   2\n",
       "10  21  90  83  14  87  77  79  56  60  56   0  60\n",
       "11  61  51  96  71  76  32   2  70   4   2  60   0"
      ]
     },
     "execution_count": 3,
     "metadata": {},
     "output_type": "execute_result"
    }
   ],
   "source": [
    "pd.DataFrame(tai12a.get_distance_matrix())"
   ]
  },
  {
   "cell_type": "markdown",
   "metadata": {},
   "source": [
    "##### Matrice de flux"
   ]
  },
  {
   "cell_type": "code",
   "execution_count": 4,
   "metadata": {},
   "outputs": [
    {
     "data": {
      "text/html": [
       "<div>\n",
       "<style scoped>\n",
       "    .dataframe tbody tr th:only-of-type {\n",
       "        vertical-align: middle;\n",
       "    }\n",
       "\n",
       "    .dataframe tbody tr th {\n",
       "        vertical-align: top;\n",
       "    }\n",
       "\n",
       "    .dataframe thead th {\n",
       "        text-align: right;\n",
       "    }\n",
       "</style>\n",
       "<table border=\"1\" class=\"dataframe\">\n",
       "  <thead>\n",
       "    <tr style=\"text-align: right;\">\n",
       "      <th></th>\n",
       "      <th>0</th>\n",
       "      <th>1</th>\n",
       "      <th>2</th>\n",
       "      <th>3</th>\n",
       "      <th>4</th>\n",
       "      <th>5</th>\n",
       "      <th>6</th>\n",
       "      <th>7</th>\n",
       "      <th>8</th>\n",
       "      <th>9</th>\n",
       "      <th>10</th>\n",
       "      <th>11</th>\n",
       "    </tr>\n",
       "  </thead>\n",
       "  <tbody>\n",
       "    <tr>\n",
       "      <th>0</th>\n",
       "      <td>0</td>\n",
       "      <td>21</td>\n",
       "      <td>95</td>\n",
       "      <td>82</td>\n",
       "      <td>56</td>\n",
       "      <td>41</td>\n",
       "      <td>6</td>\n",
       "      <td>25</td>\n",
       "      <td>10</td>\n",
       "      <td>4</td>\n",
       "      <td>63</td>\n",
       "      <td>6.0</td>\n",
       "    </tr>\n",
       "    <tr>\n",
       "      <th>1</th>\n",
       "      <td>21</td>\n",
       "      <td>0</td>\n",
       "      <td>44</td>\n",
       "      <td>40</td>\n",
       "      <td>75</td>\n",
       "      <td>79</td>\n",
       "      <td>0</td>\n",
       "      <td>89</td>\n",
       "      <td>35</td>\n",
       "      <td>9</td>\n",
       "      <td>1</td>\n",
       "      <td>85.0</td>\n",
       "    </tr>\n",
       "    <tr>\n",
       "      <th>2</th>\n",
       "      <td>95</td>\n",
       "      <td>44</td>\n",
       "      <td>0</td>\n",
       "      <td>84</td>\n",
       "      <td>12</td>\n",
       "      <td>0</td>\n",
       "      <td>26</td>\n",
       "      <td>91</td>\n",
       "      <td>11</td>\n",
       "      <td>35</td>\n",
       "      <td>82</td>\n",
       "      <td>26.0</td>\n",
       "    </tr>\n",
       "    <tr>\n",
       "      <th>3</th>\n",
       "      <td>82</td>\n",
       "      <td>40</td>\n",
       "      <td>84</td>\n",
       "      <td>0</td>\n",
       "      <td>69</td>\n",
       "      <td>56</td>\n",
       "      <td>86</td>\n",
       "      <td>45</td>\n",
       "      <td>91</td>\n",
       "      <td>59</td>\n",
       "      <td>18</td>\n",
       "      <td>76.0</td>\n",
       "    </tr>\n",
       "    <tr>\n",
       "      <th>4</th>\n",
       "      <td>56</td>\n",
       "      <td>75</td>\n",
       "      <td>12</td>\n",
       "      <td>69</td>\n",
       "      <td>0</td>\n",
       "      <td>39</td>\n",
       "      <td>18</td>\n",
       "      <td>57</td>\n",
       "      <td>36</td>\n",
       "      <td>61</td>\n",
       "      <td>36</td>\n",
       "      <td>21.0</td>\n",
       "    </tr>\n",
       "    <tr>\n",
       "      <th>5</th>\n",
       "      <td>41</td>\n",
       "      <td>79</td>\n",
       "      <td>0</td>\n",
       "      <td>56</td>\n",
       "      <td>39</td>\n",
       "      <td>0</td>\n",
       "      <td>71</td>\n",
       "      <td>11</td>\n",
       "      <td>29</td>\n",
       "      <td>82</td>\n",
       "      <td>82</td>\n",
       "      <td>6.0</td>\n",
       "    </tr>\n",
       "    <tr>\n",
       "      <th>6</th>\n",
       "      <td>6</td>\n",
       "      <td>0</td>\n",
       "      <td>26</td>\n",
       "      <td>86</td>\n",
       "      <td>18</td>\n",
       "      <td>71</td>\n",
       "      <td>0</td>\n",
       "      <td>71</td>\n",
       "      <td>8</td>\n",
       "      <td>77</td>\n",
       "      <td>74</td>\n",
       "      <td>30.0</td>\n",
       "    </tr>\n",
       "    <tr>\n",
       "      <th>7</th>\n",
       "      <td>25</td>\n",
       "      <td>89</td>\n",
       "      <td>91</td>\n",
       "      <td>45</td>\n",
       "      <td>57</td>\n",
       "      <td>11</td>\n",
       "      <td>71</td>\n",
       "      <td>0</td>\n",
       "      <td>89</td>\n",
       "      <td>76</td>\n",
       "      <td>76</td>\n",
       "      <td>40.0</td>\n",
       "    </tr>\n",
       "    <tr>\n",
       "      <th>8</th>\n",
       "      <td>10</td>\n",
       "      <td>35</td>\n",
       "      <td>11</td>\n",
       "      <td>91</td>\n",
       "      <td>36</td>\n",
       "      <td>29</td>\n",
       "      <td>8</td>\n",
       "      <td>89</td>\n",
       "      <td>0</td>\n",
       "      <td>93</td>\n",
       "      <td>56</td>\n",
       "      <td>1.0</td>\n",
       "    </tr>\n",
       "    <tr>\n",
       "      <th>9</th>\n",
       "      <td>4</td>\n",
       "      <td>9</td>\n",
       "      <td>35</td>\n",
       "      <td>59</td>\n",
       "      <td>61</td>\n",
       "      <td>82</td>\n",
       "      <td>77</td>\n",
       "      <td>76</td>\n",
       "      <td>93</td>\n",
       "      <td>0</td>\n",
       "      <td>50</td>\n",
       "      <td>4.0</td>\n",
       "    </tr>\n",
       "    <tr>\n",
       "      <th>10</th>\n",
       "      <td>63</td>\n",
       "      <td>1</td>\n",
       "      <td>82</td>\n",
       "      <td>18</td>\n",
       "      <td>36</td>\n",
       "      <td>82</td>\n",
       "      <td>74</td>\n",
       "      <td>76</td>\n",
       "      <td>56</td>\n",
       "      <td>50</td>\n",
       "      <td>0</td>\n",
       "      <td>36.0</td>\n",
       "    </tr>\n",
       "    <tr>\n",
       "      <th>11</th>\n",
       "      <td>6</td>\n",
       "      <td>85</td>\n",
       "      <td>26</td>\n",
       "      <td>76</td>\n",
       "      <td>21</td>\n",
       "      <td>6</td>\n",
       "      <td>30</td>\n",
       "      <td>40</td>\n",
       "      <td>1</td>\n",
       "      <td>4</td>\n",
       "      <td>36</td>\n",
       "      <td>NaN</td>\n",
       "    </tr>\n",
       "  </tbody>\n",
       "</table>\n",
       "</div>"
      ],
      "text/plain": [
       "    0   1   2   3   4   5   6   7   8   9   10    11\n",
       "0    0  21  95  82  56  41   6  25  10   4  63   6.0\n",
       "1   21   0  44  40  75  79   0  89  35   9   1  85.0\n",
       "2   95  44   0  84  12   0  26  91  11  35  82  26.0\n",
       "3   82  40  84   0  69  56  86  45  91  59  18  76.0\n",
       "4   56  75  12  69   0  39  18  57  36  61  36  21.0\n",
       "5   41  79   0  56  39   0  71  11  29  82  82   6.0\n",
       "6    6   0  26  86  18  71   0  71   8  77  74  30.0\n",
       "7   25  89  91  45  57  11  71   0  89  76  76  40.0\n",
       "8   10  35  11  91  36  29   8  89   0  93  56   1.0\n",
       "9    4   9  35  59  61  82  77  76  93   0  50   4.0\n",
       "10  63   1  82  18  36  82  74  76  56  50   0  36.0\n",
       "11   6  85  26  76  21   6  30  40   1   4  36   NaN"
      ]
     },
     "execution_count": 4,
     "metadata": {},
     "output_type": "execute_result"
    }
   ],
   "source": [
    "pd.DataFrame(tai12a.get_connexion_matrix())"
   ]
  },
  {
   "cell_type": "markdown",
   "metadata": {},
   "source": [
    "### Voisinage"
   ]
  },
  {
   "cell_type": "markdown",
   "metadata": {},
   "source": [
    "Afin de faire varier les résultats possibles, nous avons implémenté plusieurs manières de calculer le voisinage d'un élement.\n",
    "\n",
    "*Par soucis de compéhension, l'ensemble des exemples de cette partie se font sur l'instance Tai12a.*"
   ]
  },
  {
   "cell_type": "code",
   "execution_count": 5,
   "metadata": {},
   "outputs": [],
   "source": [
    "from Services.Voisinage import Voisinage as vn"
   ]
  },
  {
   "cell_type": "markdown",
   "metadata": {},
   "source": [
    "#### Voisinage par distance"
   ]
  },
  {
   "cell_type": "markdown",
   "metadata": {},
   "source": [
    "Ce fut notre première manière d'implémenter le voisinage.\n",
    "\n",
    "Son principe est simple. Nous intervertissons uniquement les éléments dont la distance est inférieur à la distance maximale définie.\n",
    "\n",
    "La méthode `get_permutations_by_distances` nous permet de calculer à l'avance la liste des emplacements à échanger à chaque nouveau calcul de voisinage."
   ]
  },
  {
   "cell_type": "markdown",
   "metadata": {},
   "source": [
    "##### Exemple"
   ]
  },
  {
   "cell_type": "code",
   "execution_count": 6,
   "metadata": {},
   "outputs": [
    {
     "data": {
      "application/vnd.jupyter.widget-view+json": {
       "model_id": "8de3262517f94ada9f5a9c93e885b8a1",
       "version_major": 2,
       "version_minor": 0
      },
      "text/plain": [
       "interactive(children=(IntSlider(value=50, description='distance', min=1), Output()), _dom_classes=('widget-int…"
      ]
     },
     "metadata": {},
     "output_type": "display_data"
    }
   ],
   "source": [
    "vn_distance = vn(tai12a.get_distance_matrix(),\"distances\",1)\n",
    "def show_vn_distance(vn,distance):\n",
    "    df = pd.DataFrame(vn.get_permutations_by_distances(vn.distances, distance), columns=['a','b'])\n",
    "    print(df.to_string(index=False))\n",
    "\n",
    "display(interactive(show_vn_distance, vn=fixed(vn_distance), distance=(1,100)))"
   ]
  },
  {
   "cell_type": "markdown",
   "metadata": {},
   "source": [
    "Nous récupérons ainsi la liste des éléments ayant une distance inférieure à la distance sélectionnée."
   ]
  },
  {
   "cell_type": "markdown",
   "metadata": {},
   "source": [
    "##### Avantages"
   ]
  },
  {
   "cell_type": "markdown",
   "metadata": {},
   "source": [
    "Le gros avantage de cette technique est qu'elle rapide puisqu'elle necessite de parcour la matrice de distance qu'une seule fois.\n",
    "\n",
    "De plus, il est facile ce mode de sélection puisque nous cherchons la liste des emplacements \"physiquements\" proches."
   ]
  },
  {
   "cell_type": "markdown",
   "metadata": {},
   "source": [
    "##### Inconvénients"
   ]
  },
  {
   "cell_type": "markdown",
   "metadata": {},
   "source": [
    "Nous avons trouvé plusieurs inconvénients à cette méthode.\n",
    "\n",
    "La première est qu'il se peut que des emplacements ne soient jamais sélectionnés si leur distance minimale est supérieur à la distance sélectionnée.\n",
    "\n",
    "Ensuite, avec un nombre plus importants d'emplacements, notre tableau risque de grossir rapidement."
   ]
  },
  {
   "cell_type": "markdown",
   "metadata": {},
   "source": [
    "#### Voisinage aléatoire"
   ]
  },
  {
   "cell_type": "markdown",
   "metadata": {},
   "source": [
    "Nous tirons aléatoirement une liste de permutations parmit toutes les permutations de l'instance."
   ]
  },
  {
   "cell_type": "markdown",
   "metadata": {},
   "source": [
    "##### Exemple"
   ]
  },
  {
   "cell_type": "code",
   "execution_count": 7,
   "metadata": {},
   "outputs": [
    {
     "data": {
      "application/vnd.jupyter.widget-view+json": {
       "model_id": "7f3dfa15bf0a474081fb10a21847748c",
       "version_major": 2,
       "version_minor": 0
      },
      "text/plain": [
       "interactive(children=(IntSlider(value=35, description='taille', max=70, min=1), Output()), _dom_classes=('widg…"
      ]
     },
     "metadata": {},
     "output_type": "display_data"
    }
   ],
   "source": [
    "vn_random = vn(tai12a.get_distance_matrix(),\"random\",15)\n",
    "\n",
    "def show_vn_random(vn,taille):\n",
    "    permutations = vn.get_permutations_random(vn.distances, taille)\n",
    "    df = pd.DataFrame(permutations, columns=['a','b'])\n",
    "    print(df.to_string(index=False))\n",
    "\n",
    "display(interactive(show_vn_random, vn=fixed(vn_random), taille=(1,70)))"
   ]
  },
  {
   "cell_type": "markdown",
   "metadata": {},
   "source": [
    "##### Avantages"
   ]
  },
  {
   "cell_type": "markdown",
   "metadata": {},
   "source": [
    "Chaque emplacement a la même probabilité d'apparaitre dans une liste de voisins meême s'il est isolé des autres emplacements."
   ]
  },
  {
   "cell_type": "markdown",
   "metadata": {},
   "source": [
    "##### Inconvénients"
   ]
  },
  {
   "cell_type": "markdown",
   "metadata": {},
   "source": [
    "Fonctionnement non déterministe, nous ne pouvons pas assurer qu'un emplacement soit visiter au moins une fois."
   ]
  },
  {
   "cell_type": "markdown",
   "metadata": {},
   "source": [
    "#### Voisinage complet"
   ]
  },
  {
   "cell_type": "markdown",
   "metadata": {},
   "source": [
    "Nous récupérons l'ensemble des possiblités des permutations de notre instance."
   ]
  },
  {
   "cell_type": "markdown",
   "metadata": {},
   "source": [
    "##### Exemple"
   ]
  },
  {
   "cell_type": "code",
   "execution_count": 8,
   "metadata": {},
   "outputs": [
    {
     "data": {
      "application/vnd.jupyter.widget-view+json": {
       "model_id": "679df039681741a89eaba63541352716",
       "version_major": 2,
       "version_minor": 0
      },
      "text/plain": [
       "interactive(children=(Output(),), _dom_classes=('widget-interact',))"
      ]
     },
     "metadata": {},
     "output_type": "display_data"
    }
   ],
   "source": [
    "vn_default = vn(tai12a.get_distance_matrix())\n",
    "\n",
    "def show_vn_default(vn):\n",
    "    df = pd.DataFrame(vn.get_permutations(vn.distances), columns=['a','b'])\n",
    "    print(df.to_string(index=False))\n",
    "\n",
    "display(interactive(show_vn_default, vn=fixed(vn_default)))"
   ]
  },
  {
   "cell_type": "markdown",
   "metadata": {},
   "source": [
    "##### Avantages"
   ]
  },
  {
   "cell_type": "markdown",
   "metadata": {},
   "source": [
    "Cette façon de calculer les voisins est déterministe. Nous sommes sûr que l'ensemble des voisins soit visité."
   ]
  },
  {
   "cell_type": "markdown",
   "metadata": {},
   "source": [
    "##### Inconvénients"
   ]
  },
  {
   "cell_type": "markdown",
   "metadata": {},
   "source": [
    "Cette façon de faire est lourde et la liste grandit de façon exponentielle suivant le nombre d'emplacements totals."
   ]
  },
  {
   "cell_type": "markdown",
   "metadata": {},
   "source": [
    "### Algorithmes QAP"
   ]
  },
  {
   "cell_type": "markdown",
   "metadata": {},
   "source": [
    "Afin de vérifier le bon fonctionnement de nos algorithmes, nous avons utilisé la librairie de tests unitaires `unittest`.\n",
    "\n",
    "Tous nos tests sont accessibles dans le dossier `Tests` présent à la source de notre projet."
   ]
  },
  {
   "cell_type": "markdown",
   "metadata": {},
   "source": [
    "#### Recuit Simulé"
   ]
  },
  {
   "cell_type": "markdown",
   "metadata": {},
   "source": [
    "##### Code"
   ]
  },
  {
   "cell_type": "markdown",
   "metadata": {},
   "source": [
    "La méthode de résolution du QAP par l'algorithme du Recuit Simulé a été implémenté ainsi:\n",
    "\n",
    "```python\n",
    "def resolve(self, x: list, t: float, numberchangetemp: int, numbermovestemp: int, mu: float):\n",
    "    xmin = nextx = x\n",
    "    fmin = fx = fnextx = self.fitness.calcul(x)\n",
    "\n",
    "    # instanciate var\n",
    "    delta = 0\n",
    "    y = []\n",
    "    fy = 0\n",
    "    k = 0\n",
    "\n",
    "    for k in range(0, numberchangetemp):\n",
    "        for l in range(1, numbermovestemp):\n",
    "            x = nextx\n",
    "            fx = fnextx\n",
    "            # select y\n",
    "            y = random.choice(self.voisinage.get_voisins(x))\n",
    "            fy = self.fitness.calcul(y)\n",
    "            delta = fy - fx\n",
    "\n",
    "            if delta <= 0:\n",
    "                nextx = y\n",
    "                fnextx = fy\n",
    "                if fy < fmin:\n",
    "                    xmin = y\n",
    "                    fmin = fy\n",
    "            else:\n",
    "                p = round(random.uniform(0,1), 1)\n",
    "                if p <= math.exp(-delta / t):\n",
    "                    nextx = y\n",
    "                else:\n",
    "                    nextx = x\n",
    "        t = mu * t\n",
    "        k = k + 1\n",
    "\n",
    "    return xmin\n",
    "```"
   ]
  },
  {
   "cell_type": "markdown",
   "metadata": {},
   "source": [
    "##### Explications"
   ]
  },
  {
   "cell_type": "markdown",
   "metadata": {},
   "source": [
    "Notre méthode prend en paramètres:\n",
    "* une combinaison initiale `x` tirée de notre instance.\n",
    "* une température `t` qui est notre température initiale\n",
    "* un nombre de changement de température `numberchangetemp`\n",
    "* un nombre de déplacement à une température `numbermovestemp`\n",
    "* une constante `mu` qui est le coefficient chargé de faire varier la température. \n",
    "\n",
    "Pour chaque température, nous allons visiter un voisin tiré au hasard de `x`.\n",
    "Si ce voisin a une meilleure fitness, nous le choisissons. Sinon suivant la valeur aléatoire tirée, soit nous choisissons notre `x` actuel, soit c'est le voisin que nous venons de tiré qui sera utilisé.\n",
    "\n",
    "Une fois tous les changements de températures éffectués, l'algorithme nous retourne la combinaison ayant la plus petite fitness."
   ]
  },
  {
   "cell_type": "markdown",
   "metadata": {},
   "source": [
    "##### Démonstration"
   ]
  },
  {
   "cell_type": "code",
   "execution_count": 9,
   "metadata": {},
   "outputs": [
    {
     "data": {
      "application/vnd.jupyter.widget-view+json": {
       "model_id": "19d129b6161d41b6974b26367fc110f8",
       "version_major": 2,
       "version_minor": 0
      },
      "text/plain": [
       "interactive(children=(Dropdown(description='taille', options=(-1, 0, 1, 2, 3, 4, 5, 6, 7, 8, 9, 10, 11, 12, 13…"
      ]
     },
     "metadata": {},
     "output_type": "display_data"
    },
    {
     "data": {
      "application/vnd.jupyter.widget-view+json": {
       "model_id": "9e252b31c012458db17e1e1b736ee661",
       "version_major": 2,
       "version_minor": 0
      },
      "text/plain": [
       "interactive(children=(FloatSlider(value=100.0, description='temperature', max=200.0, min=0.1), IntSlider(value…"
      ]
     },
     "metadata": {},
     "output_type": "display_data"
    },
    {
     "data": {
      "text/plain": [
       "<function __main__.interactive_recuit(recuit, temperature: float, changements_temperature: int, mouvements_temperature: int, mu: float)>"
      ]
     },
     "execution_count": 9,
     "metadata": {},
     "output_type": "execute_result"
    }
   ],
   "source": [
    "from Services.Recuit import Recuit as recuit\n",
    "\n",
    "recuit_distances = tai12a.get_distance_matrix()\n",
    "recuit_connexions = tai12a.get_connexion_matrix()\n",
    "\n",
    "def interactive_voisinage(distances: list, taille:int, type = \"default\"):\n",
    "    if(taille == -1):\n",
    "        temp_vn = vn(distances, type)\n",
    "    else:\n",
    "        temp_vn = vn(distances, type, taille)\n",
    "    print(\"Permutations: \"+ \"\".join(str(e) for e in temp_vn.permutations))\n",
    "    return temp_vn\n",
    "\n",
    "interactive_recuit_vn = interactive(interactive_voisinage, distances=fixed(recuit_distances), type=[\"tout\", \"random\", \"distances\"], taille=range(-1,100))\n",
    "\n",
    "display(interactive_recuit_vn)\n",
    "\n",
    "recuit_ft = ft(recuit_connexions, recuit_distances)\n",
    "\n",
    "demo_recuit = recuit(recuit_distances, recuit_connexions, interactive_recuit_vn.result, recuit_ft)\n",
    "\n",
    "def interactive_recuit(recuit, temperature:float, changements_temperature: int, mouvements_temperature:int, mu: float):\n",
    "    solution = recuit.resolve([0,1,2,3,4,5,6,7,8,9,10,11],\n",
    "                              temperature,\n",
    "                              changements_temperature,\n",
    "                              mouvements_temperature,\n",
    "                              mu)\n",
    "    print(\"Solution: \"+ \"\".join(str(e) for e in solution))\n",
    "    print(\"Fitness: \" + str(recuit_ft.calcul(solution)))\n",
    "\n",
    "interact_manual(interactive_recuit,\n",
    "         recuit=fixed(demo_recuit),\n",
    "         temperature=(0.1,200,0.1),\n",
    "         changements_temperature=(1,100),\n",
    "         mouvements_temperature=(1,100),\n",
    "         mu=(0.1,1))"
   ]
  },
  {
   "cell_type": "markdown",
   "metadata": {},
   "source": [
    "#### Méthode Tabou"
   ]
  },
  {
   "cell_type": "markdown",
   "metadata": {},
   "source": [
    "##### Code"
   ]
  },
  {
   "cell_type": "markdown",
   "metadata": {},
   "source": [
    "La méthode de résolution du QAP par l'algorithme du Tabou a été implémentée ainsi:\n",
    "\n",
    "```python\n",
    "def resolve(self, x: list, tabousize: int, maxIter = 1000):\n",
    "    xmin = nextx = x\n",
    "    fx = fmin = fnextx = self.fitness.calcul(x)\n",
    "    tabou = []\n",
    "    tabou.append(x)\n",
    "    C = []\n",
    "\n",
    "    for i in range(0, maxIter):\n",
    "        C = self.voisinage.get_voisins(x , tabou)\n",
    "        miny = self.getMinY(C)\n",
    "        nextx = miny['x']\n",
    "        fnextx = miny['f']\n",
    "\n",
    "        deltaf = fnextx - fx\n",
    "        if (deltaf <= 0):\n",
    "            tabou.append(nextx)\n",
    "            if (len(tabou) > tabousize):\n",
    "                tabou = tabou[1:]\n",
    "        if (fnextx < fmin):\n",
    "            xmin = nextx\n",
    "            fmin = fnextx\n",
    "        x = nextx\n",
    "        fx = fnextx\n",
    "\n",
    "    return xmin\n",
    "```"
   ]
  },
  {
   "cell_type": "markdown",
   "metadata": {},
   "source": [
    "##### Explications"
   ]
  },
  {
   "cell_type": "markdown",
   "metadata": {},
   "source": [
    "Notre méthode prend en paramètres:\n",
    "* une combinaison initiale `x` tirée de notre instance.\n",
    "* la taille de notre liste tabou `tabousize`\n",
    "* un nombre maximal d'itérations `maxiter`\n",
    "\n",
    "Pour chaque emplacement, nous allons récupérer tous ses voisins qui ne sont pas déjà dans notre liste tabou. Parmi tous ces voisins, nous allons garder celui ayant la meilleure fitness.\n",
    "\n",
    "Si la différence entre la fitness du voisin et celle de notre `x` actuel est négative, alors le voisin est ajouté à la liste Tabou.\n",
    "\n",
    "Une fois le nombre de changements maximal atteind, l'algorithme nous retourne la combinaison ayant la plus petite fitness."
   ]
  },
  {
   "cell_type": "markdown",
   "metadata": {},
   "source": [
    "##### Démonstration"
   ]
  },
  {
   "cell_type": "code",
   "execution_count": 10,
   "metadata": {},
   "outputs": [
    {
     "data": {
      "application/vnd.jupyter.widget-view+json": {
       "model_id": "5ac513cfeac84d7784f996559ff1a62d",
       "version_major": 2,
       "version_minor": 0
      },
      "text/plain": [
       "interactive(children=(Dropdown(description='taille', options=(-1, 0, 1, 2, 3, 4, 5, 6, 7, 8, 9, 10, 11, 12, 13…"
      ]
     },
     "metadata": {},
     "output_type": "display_data"
    },
    {
     "data": {
      "application/vnd.jupyter.widget-view+json": {
       "model_id": "393c69d67cb94fdda458509fbad51c6a",
       "version_major": 2,
       "version_minor": 0
      },
      "text/plain": [
       "interactive(children=(IntSlider(value=25, description='taille', max=50, min=1), IntSlider(value=1000, descript…"
      ]
     },
     "metadata": {},
     "output_type": "display_data"
    },
    {
     "data": {
      "text/plain": [
       "<function __main__.interactive_tabou(tabou, taille: int, maxiter=1000)>"
      ]
     },
     "execution_count": 10,
     "metadata": {},
     "output_type": "execute_result"
    }
   ],
   "source": [
    "from Services.Tabou import Tabou as tabou\n",
    "\n",
    "tabou_distances = tai12a.get_distance_matrix()\n",
    "tabou_connexions = tai12a.get_connexion_matrix()\n",
    "\n",
    "\n",
    "interactive_tabou_vn = interactive(interactive_voisinage, distances=fixed(tabou_distances), type=[\"tout\", \"random\", \"distances\"], taille=range(-1,100))\n",
    "\n",
    "display(interactive_tabou_vn)\n",
    "\n",
    "tabou_ft = ft(tabou_connexions, tabou_distances)\n",
    "\n",
    "demo_tabou = tabou(tabou_distances, tabou_connexions, interactive_tabou_vn.result, tabou_ft)\n",
    "\n",
    "def interactive_tabou(tabou, taille: int, maxiter=1000):\n",
    "    x = interactive_tabou_vn.result.get_random_x()\n",
    "    print(\"x de départ: \"+ \" \".join(str(e) for e in x))\n",
    "    \n",
    "    solution = tabou.resolve(x,\n",
    "                              taille,\n",
    "                              maxiter)\n",
    "    print(\"Solution: \"+ \" \".join(str(e) for e in solution))\n",
    "    print(\"Fitness:\" + str(tabou_ft.calcul(solution)))\n",
    "\n",
    "interact_manual(interactive_tabou,\n",
    "         tabou=fixed(demo_tabou),\n",
    "         taille=(1,50),\n",
    "         maxiter=(1,10000))"
   ]
  },
  {
   "cell_type": "markdown",
   "metadata": {},
   "source": [
    "## Analyse"
   ]
  },
  {
   "cell_type": "markdown",
   "metadata": {},
   "source": [
    "### Introduction"
   ]
  },
  {
   "cell_type": "markdown",
   "metadata": {},
   "source": [
    "Pour chaque itération présentée dans la partie qui suit, nous avons décidé de passer chaque algorithme cinquante fois par instance. De ces résultats, nous avons extrait la solution retournée et la durée d'execution du processus afin d'évaluer la qualité de notre implémentation.\n",
    "\n",
    "Une boite à moustache nous permettra de visualiser les différentes fitness obtenues.\n",
    "\n",
    "Afin d'assurer la cohérence des résultats, certaines variables restent inchangées d'une itération à une autre.\n",
    "\n",
    "Pour le calcul du voisinage, le nombre de voisins est une constante qui est de 50. Chaque voisin est généré aléatoirement parmi la liste de toutes les permutations.\n",
    "\n",
    "Pour l'algorithme du Recuit Simulé, les constantes sont les suivantes:\n",
    "* la **température initiale** vaut 100\n",
    "* le nombre de **changements de température** est de 50\n",
    "* le nombre de **mouvements à une température** est de 50\n",
    "\n",
    "Pour l'algorithme de Tabou, les constantes sont les suivantes:\n",
    "* le nombre d'**itérations maximal** est de 250\n",
    "\n",
    "L'élément **x initial** est un élément choisi aléatoirement parmi l'ensemble des possibilités.\n",
    "\n",
    "L'ensemble des données extraites de nos algorithmes sont accessibles dans le répertoire `data/exports`."
   ]
  },
  {
   "cell_type": "code",
   "execution_count": 11,
   "metadata": {},
   "outputs": [],
   "source": [
    "def csv_to_boxplot(instance = \"\", version = 1, title = \"\"):\n",
    "    df_recuit = pd.read_csv('./data/exports/recuit/v'+str(version)+'_'+instance+'.csv', sep=',')\n",
    "    df_tabou = pd.read_csv('./data/exports/tabou/v'+str(version)+'_'+instance+'.csv', sep=',')\n",
    "    \n",
    "    df_instance = pd.DataFrame(\n",
    "        [df_recuit.fitness,df_recuit.duration,df_tabou.fitness,df_tabou.duration]\n",
    "    ).transpose()\n",
    "    df_instance.columns = ['Recuit', 'Recuit Durée', 'Tabou','Tabou Durée']\n",
    "    boxplot_instance = df_instance.boxplot(column=['Tabou','Recuit']).set_ylabel(\"Fitness\")\n",
    "    \n",
    "def csv_to_multiple_boxplot(instance = \"\"):\n",
    "    df_recuit = pd.read_csv('./data/exports/recuit/v1_'+instance+'.csv', sep=',')\n",
    "    df_tabou = pd.read_csv('./data/exports/tabou/v1_'+instance+'.csv', sep=',')\n",
    "    df_recuit_3 = pd.read_csv('./data/exports/recuit/v3_'+instance+'.csv', sep=',')\n",
    "    df_tabou_3 = pd.read_csv('./data/exports/tabou/v3_'+instance+'.csv', sep=',')\n",
    "    \n",
    "    df_instance = pd.DataFrame(\n",
    "        [df_recuit.fitness,df_recuit.duration,df_tabou.fitness,df_tabou.duration,df_recuit_3.fitness,df_recuit_3.duration,df_tabou_3.fitness,df_tabou_3.duration]\n",
    "    ).transpose()\n",
    "    df_instance.columns = ['Recuit1', 'Recuit1 Durée', 'Tabou1','Tabou1 Durée', 'Recuit3', 'Recuit3 Durée', 'Tabou3','Tabou3 Durée']\n",
    "    boxplot_instance = df_instance.boxplot(column=['Tabou1','Recuit1','Tabou3','Recuit3']).set_ylabel(\"Fitness\")\n",
    "    \n",
    "def csv_to_multiple_boxplot_iter(instance = \"\", type = \"\"):\n",
    "    df_1 = pd.read_csv('./data/exports/'+type+'/v1_'+instance+'.csv', sep=',')\n",
    "    df_3 = pd.read_csv('./data/exports/'+type+'/v3_'+instance+'.csv', sep=',')\n",
    "    \n",
    "    df_instance = pd.DataFrame(\n",
    "        [df_1.fitness,df_1.duration,df_3.fitness,df_3.duration]\n",
    "    ).transpose()\n",
    "    df_instance.columns = ['Iteration1', 'Iteration1 Durée', 'Iteration3', 'Iteration3 Durée']\n",
    "    boxplot_instance = df_instance.boxplot(column=['Iteration1','Iteration3']).set_ylabel(\"Fitness\")\n",
    "    \n",
    "def csv_to_graph_duree(list_instance = [], version=1, title = \"\"):\n",
    "    data_recuit = []\n",
    "    data_tabou = []\n",
    "    for instance in list_instance:\n",
    "        df_recuit = pd.read_csv('./data/exports/recuit/v'+str(version)+'_'+instance+'.csv', sep=',')\n",
    "        data_recuit.append(df_recuit.loc[:,\"duration\"].mean())\n",
    "        df_tabou = pd.read_csv('./data/exports/tabou/v'+str(version)+'_'+instance+'.csv', sep=',')\n",
    "        data_tabou.append(df_tabou.loc[:,\"duration\"].mean())\n",
    "    df = pd.DataFrame({'Tabou':data_tabou,'Recuit':data_recuit},index = list_instance)\n",
    "    plt.figure()\n",
    "    df.plot(title=title).set_ylabel(\"Durée (en s)\")"
   ]
  },
  {
   "cell_type": "markdown",
   "metadata": {},
   "source": [
    "### Première itération"
   ]
  },
  {
   "cell_type": "markdown",
   "metadata": {},
   "source": [
    "Pour la première série d'itération, nos données d'entrées étaient les suivantes pour chaque instance de Taillard:\n",
    "* Algorithme Recuit Simulé\n",
    "    * le coefficient **mu** à 0.9\n",
    "* Algorithme Tabou\n",
    "    * une taille de **liste tabou** de 10"
   ]
  },
  {
   "cell_type": "markdown",
   "metadata": {},
   "source": [
    "#### Résultats"
   ]
  },
  {
   "cell_type": "markdown",
   "metadata": {},
   "source": [
    "##### Instance Taillard 12 a"
   ]
  },
  {
   "cell_type": "code",
   "execution_count": 12,
   "metadata": {},
   "outputs": [
    {
     "data": {
      "image/png": "[encoded data removed]",
      "text/plain": [
       "<Figure size 432x288 with 1 Axes>"
      ]
     },
     "metadata": {
      "needs_background": "light"
     },
     "output_type": "display_data"
    }
   ],
   "source": [
    "csv_to_boxplot('tai12a',1)"
   ]
  },
  {
   "cell_type": "markdown",
   "metadata": {},
   "source": [
    "##### Instance Taillard 15 a"
   ]
  },
  {
   "cell_type": "code",
   "execution_count": 13,
   "metadata": {},
   "outputs": [
    {
     "data": {
      "image/png": "[encoded data removed]",
      "text/plain": [
       "<Figure size 432x288 with 1 Axes>"
      ]
     },
     "metadata": {
      "needs_background": "light"
     },
     "output_type": "display_data"
    }
   ],
   "source": [
    "csv_to_boxplot('tai15a',1)"
   ]
  },
  {
   "cell_type": "markdown",
   "metadata": {},
   "source": [
    "##### Instance Taillard 17 a"
   ]
  },
  {
   "cell_type": "code",
   "execution_count": 14,
   "metadata": {},
   "outputs": [
    {
     "data": {
      "image/png": "[encoded data removed]",
      "text/plain": [
       "<Figure size 432x288 with 1 Axes>"
      ]
     },
     "metadata": {
      "needs_background": "light"
     },
     "output_type": "display_data"
    }
   ],
   "source": [
    "csv_to_boxplot('tai17a',1)"
   ]
  },
  {
   "cell_type": "markdown",
   "metadata": {},
   "source": [
    "##### Instance Taillard 20 a"
   ]
  },
  {
   "cell_type": "code",
   "execution_count": 15,
   "metadata": {},
   "outputs": [
    {
     "data": {
      "image/png": "[encoded data removed]",
      "text/plain": [
       "<Figure size 432x288 with 1 Axes>"
      ]
     },
     "metadata": {
      "needs_background": "light"
     },
     "output_type": "display_data"
    }
   ],
   "source": [
    "csv_to_boxplot('tai20a',1)"
   ]
  },
  {
   "cell_type": "markdown",
   "metadata": {},
   "source": [
    "##### Instance Taillard 25 a"
   ]
  },
  {
   "cell_type": "code",
   "execution_count": 16,
   "metadata": {},
   "outputs": [
    {
     "data": {
      "image/png": "[encoded data removed]",
      "text/plain": [
       "<Figure size 432x288 with 1 Axes>"
      ]
     },
     "metadata": {
      "needs_background": "light"
     },
     "output_type": "display_data"
    }
   ],
   "source": [
    "csv_to_boxplot('tai25a',1)"
   ]
  },
  {
   "cell_type": "markdown",
   "metadata": {},
   "source": [
    "##### Instance Taillard 30 a"
   ]
  },
  {
   "cell_type": "code",
   "execution_count": 17,
   "metadata": {},
   "outputs": [
    {
     "data": {
      "image/png": "[encoded data removed]",
      "text/plain": [
       "<Figure size 432x288 with 1 Axes>"
      ]
     },
     "metadata": {
      "needs_background": "light"
     },
     "output_type": "display_data"
    }
   ],
   "source": [
    "csv_to_boxplot('tai30a',1)"
   ]
  },
  {
   "cell_type": "markdown",
   "metadata": {},
   "source": [
    "##### Instance Taillard 35 a"
   ]
  },
  {
   "cell_type": "code",
   "execution_count": 18,
   "metadata": {},
   "outputs": [
    {
     "data": {
      "image/png": "[encoded data removed]",
      "text/plain": [
       "<Figure size 432x288 with 1 Axes>"
      ]
     },
     "metadata": {
      "needs_background": "light"
     },
     "output_type": "display_data"
    }
   ],
   "source": [
    "csv_to_boxplot('tai35a',1)"
   ]
  },
  {
   "cell_type": "markdown",
   "metadata": {},
   "source": [
    "##### Instance Taillard 40 a"
   ]
  },
  {
   "cell_type": "code",
   "execution_count": 19,
   "metadata": {},
   "outputs": [
    {
     "data": {
      "image/png": "[encoded data removed]",
      "text/plain": [
       "<Figure size 432x288 with 1 Axes>"
      ]
     },
     "metadata": {
      "needs_background": "light"
     },
     "output_type": "display_data"
    }
   ],
   "source": [
    "csv_to_boxplot('tai40a',1)"
   ]
  },
  {
   "cell_type": "markdown",
   "metadata": {},
   "source": [
    "##### Instance Taillard 50 a"
   ]
  },
  {
   "cell_type": "code",
   "execution_count": 20,
   "metadata": {},
   "outputs": [
    {
     "data": {
      "image/png": "[encoded data removed]",
      "text/plain": [
       "<Figure size 432x288 with 1 Axes>"
      ]
     },
     "metadata": {
      "needs_background": "light"
     },
     "output_type": "display_data"
    }
   ],
   "source": [
    "csv_to_boxplot('tai50a',1)"
   ]
  },
  {
   "cell_type": "code",
   "execution_count": null,
   "metadata": {},
   "outputs": [],
   "source": []
  },
  {
   "cell_type": "markdown",
   "metadata": {},
   "source": [
    "##### Instance Taillard 60 a"
   ]
  },
  {
   "cell_type": "code",
   "execution_count": 21,
   "metadata": {},
   "outputs": [
    {
     "data": {
      "image/png": "[encoded data removed]",
      "text/plain": [
       "<Figure size 432x288 with 1 Axes>"
      ]
     },
     "metadata": {
      "needs_background": "light"
     },
     "output_type": "display_data"
    }
   ],
   "source": [
    "csv_to_boxplot('tai60a',1)"
   ]
  },
  {
   "cell_type": "markdown",
   "metadata": {},
   "source": [
    "##### Instance Taillard 80 a"
   ]
  },
  {
   "cell_type": "code",
   "execution_count": 22,
   "metadata": {},
   "outputs": [
    {
     "data": {
      "image/png": "[encoded data removed]",
      "text/plain": [
       "<Figure size 432x288 with 1 Axes>"
      ]
     },
     "metadata": {
      "needs_background": "light"
     },
     "output_type": "display_data"
    }
   ],
   "source": [
    "csv_to_boxplot('tai80a',1)"
   ]
  },
  {
   "cell_type": "markdown",
   "metadata": {},
   "source": [
    "##### Instance Taillard 100 a"
   ]
  },
  {
   "cell_type": "code",
   "execution_count": 23,
   "metadata": {},
   "outputs": [
    {
     "data": {
      "image/png": "[encoded data removed]",
      "text/plain": [
       "<Figure size 432x288 with 1 Axes>"
      ]
     },
     "metadata": {
      "needs_background": "light"
     },
     "output_type": "display_data"
    }
   ],
   "source": [
    "csv_to_boxplot('tai100a',1)"
   ]
  },
  {
   "cell_type": "markdown",
   "metadata": {},
   "source": [
    "##### Temps de calcul"
   ]
  },
  {
   "cell_type": "code",
   "execution_count": 24,
   "metadata": {},
   "outputs": [
    {
     "data": {
      "text/plain": [
       "<Figure size 432x288 with 0 Axes>"
      ]
     },
     "metadata": {},
     "output_type": "display_data"
    },
    {
     "data": {
      "image/png": "[encoded data removed]",
      "text/plain": [
       "<Figure size 432x288 with 1 Axes>"
      ]
     },
     "metadata": {
      "needs_background": "light"
     },
     "output_type": "display_data"
    }
   ],
   "source": [
    "list_instances = [\"tai12a\", \"tai15a\", \"tai17a\", \"tai20a\", \"tai25a\", \"tai30a\", \"tai35a\", \"tai40a\", \"tai50a\", \"tai60a\", \"tai80a\", \"tai100a\"]\n",
    "csv_to_graph_duree(list_instances,1,\"Temps Calcul Itération 1\")"
   ]
  },
  {
   "cell_type": "markdown",
   "metadata": {},
   "source": [
    "#### Bilan"
   ]
  },
  {
   "cell_type": "markdown",
   "metadata": {},
   "source": [
    "Globalement nous remarquons que l'algorithme *Tabou* trouve de meilleures solutions que le *Recuit Simulé*.\n",
    "\n",
    "En contrepartie, *Tabou* est l'algorithme qui met le plus de temps lorsqu'il parcourt l'instance Taillard de taille 100 avec presque une **heure** de temps de calcul. L'algorithme du *Recuit Simulé* est trois fois plus rapide que *Tabou* mais il met quand même 20 minutes pour parcourir l'instance 100."
   ]
  },
  {
   "cell_type": "markdown",
   "metadata": {},
   "source": [
    "### Deuxième itération"
   ]
  },
  {
   "cell_type": "markdown",
   "metadata": {},
   "source": [
    "Pour cette itération, nous avons voulu améliorer les performances de nos algorithmes. Plus d'une heure de temps de calcul pour faire tourner nos algorithmes sur l'ensemble des instances n'est pas concevable.\n",
    "\n",
    "Pour se faire nous avons cherché comment améliorer nos algorithmes et plus particulièrement le *Tabou*."
   ]
  },
  {
   "cell_type": "markdown",
   "metadata": {},
   "source": [
    "#### Modification"
   ]
  },
  {
   "cell_type": "markdown",
   "metadata": {},
   "source": [
    "Dans le cas des taillards, la fonction de fitness est la pour calculer la distance totale des connexions entre les éléments.  La première matrice est là pour donner les distances entre chaque emplacement tandis que la deuxième nous donne les connexions à placer entre deux éléments.\n",
    "\n",
    "Ce qu'il nous reste à choisir c'est le placement des équipements sur les différents emplacements. Une fois ce tableau de placement choisi, il ne reste plus qu'à calculer la longueur totale. Pour cela il nous faut parcourir la demi matrice de connexion (car les connexions sont dans les deux sens, la matrice des connexions est donc symétrique) et de multiplier par la distance aux indices correspondants indiqués par le tableau de placement. \n",
    "\n",
    "Ce calcul s'avère très lourd à réaliser sur des instances de taillard de grande taille et chaque appel à la fonction de fitness était coûteux en temps et en complexité $\\mathcal{O}(n^2)$. Pour le taillard 100 il fallait une heure pour calculer le tabou 50 fois. Il fallait donc trouver une solution pour accélérer et optimiser cette fonction.\n",
    "\n",
    "Nous avons donc implémenté la fonction de calcul du delta entre une fitness d'un placmeent donné et l'un de ses voisins généré à partir d'une unique permutation.\n",
    "\n",
    "```python\n",
    "def calcul_opti(self, placement_array, id_position_changed_1, id_position_changed_2):\n",
    "    if self.valeur == 0: # si pas de valeur deja calcule alors on fait le calcul général\n",
    "        return self.calcul_all(placement_array)\n",
    "    else:\n",
    "        delta = 0\n",
    "        id_equipement_1 = placement_array[id_position_changed_1]\n",
    "        id_equipement_2 = placement_array[id_position_changed_2]\n",
    "\n",
    "        for id_emplacement in range(0, len(placement_array)):\n",
    "            if id_emplacement != id_position_changed_1 and id_emplacement != id_position_changed_2:\n",
    "                value_k = placement_array[id_emplacement]\n",
    "                delta += (self.connexion_matrix[id_equipement_1][value_k] \n",
    "                          - self.connexion_matrix[id_equipement_2][value_k]) * \n",
    "                          (self.distance_matrix[id_position_changed_1][id_emplacement] - \n",
    "                           self.distance_matrix[id_position_changed_2][id_emplacement])\n",
    "\n",
    "        return self.valeur + (delta * 2)\n",
    "```\n",
    "\n",
    "Cette fonction permet de calculer seulement l'impact d'une permutation sur la longueur totale. Cette solution est en $\\mathcal{O}(n)$ ce qui a permis de réaliser les gains de temps observés ci-dessous. Bien sur il faut d'abord réliser le calcul total prior à l'utilisation de cette méthode."
   ]
  },
  {
   "cell_type": "markdown",
   "metadata": {},
   "source": [
    "#### Résultats"
   ]
  },
  {
   "cell_type": "markdown",
   "metadata": {},
   "source": [
    "##### Temps de Calcul"
   ]
  },
  {
   "cell_type": "code",
   "execution_count": 25,
   "metadata": {},
   "outputs": [
    {
     "data": {
      "text/plain": [
       "<Figure size 432x288 with 0 Axes>"
      ]
     },
     "metadata": {},
     "output_type": "display_data"
    },
    {
     "data": {
      "image/png": "[encoded data removed]",
      "text/plain": [
       "<Figure size 432x288 with 1 Axes>"
      ]
     },
     "metadata": {
      "needs_background": "light"
     },
     "output_type": "display_data"
    }
   ],
   "source": [
    "list_instances = [\"tai12a\", \"tai15a\", \"tai17a\", \"tai20a\", \"tai25a\", \"tai30a\", \"tai35a\", \"tai40a\", \"tai50a\", \"tai60a\", \"tai80a\", \"tai100a\"]\n",
    "csv_to_graph_duree(list_instances, 2, \"Comparaison Temps Calcul Itération 2\")"
   ]
  },
  {
   "cell_type": "markdown",
   "metadata": {},
   "source": [
    "##### Comparaison Durée Algorithme Recuit"
   ]
  },
  {
   "cell_type": "code",
   "execution_count": 26,
   "metadata": {},
   "outputs": [
    {
     "data": {
      "text/html": [
       "<div>\n",
       "<style scoped>\n",
       "    .dataframe tbody tr th:only-of-type {\n",
       "        vertical-align: middle;\n",
       "    }\n",
       "\n",
       "    .dataframe tbody tr th {\n",
       "        vertical-align: top;\n",
       "    }\n",
       "\n",
       "    .dataframe thead th {\n",
       "        text-align: right;\n",
       "    }\n",
       "</style>\n",
       "<table border=\"1\" class=\"dataframe\">\n",
       "  <thead>\n",
       "    <tr style=\"text-align: right;\">\n",
       "      <th></th>\n",
       "      <th>Itération 1</th>\n",
       "      <th>Itération 2</th>\n",
       "    </tr>\n",
       "  </thead>\n",
       "  <tbody>\n",
       "    <tr>\n",
       "      <th>tai12a</th>\n",
       "      <td>5.876701</td>\n",
       "      <td>2.807676</td>\n",
       "    </tr>\n",
       "    <tr>\n",
       "      <th>tai15a</th>\n",
       "      <td>11.952317</td>\n",
       "      <td>3.462952</td>\n",
       "    </tr>\n",
       "    <tr>\n",
       "      <th>tai17a</th>\n",
       "      <td>16.783602</td>\n",
       "      <td>4.756784</td>\n",
       "    </tr>\n",
       "    <tr>\n",
       "      <th>tai20a</th>\n",
       "      <td>26.885084</td>\n",
       "      <td>6.278623</td>\n",
       "    </tr>\n",
       "    <tr>\n",
       "      <th>tai25a</th>\n",
       "      <td>48.752121</td>\n",
       "      <td>11.384055</td>\n",
       "    </tr>\n",
       "    <tr>\n",
       "      <th>tai30a</th>\n",
       "      <td>72.651975</td>\n",
       "      <td>16.028723</td>\n",
       "    </tr>\n",
       "    <tr>\n",
       "      <th>tai35a</th>\n",
       "      <td>104.675566</td>\n",
       "      <td>25.723301</td>\n",
       "    </tr>\n",
       "    <tr>\n",
       "      <th>tai40a</th>\n",
       "      <td>138.877012</td>\n",
       "      <td>31.917747</td>\n",
       "    </tr>\n",
       "    <tr>\n",
       "      <th>tai50a</th>\n",
       "      <td>240.018430</td>\n",
       "      <td>80.082235</td>\n",
       "    </tr>\n",
       "    <tr>\n",
       "      <th>tai60a</th>\n",
       "      <td>362.103866</td>\n",
       "      <td>135.165362</td>\n",
       "    </tr>\n",
       "    <tr>\n",
       "      <th>tai80a</th>\n",
       "      <td>611.326147</td>\n",
       "      <td>249.487260</td>\n",
       "    </tr>\n",
       "    <tr>\n",
       "      <th>tai100a</th>\n",
       "      <td>1023.277234</td>\n",
       "      <td>395.750496</td>\n",
       "    </tr>\n",
       "  </tbody>\n",
       "</table>\n",
       "</div>"
      ],
      "text/plain": [
       "         Itération 1  Itération 2\n",
       "tai12a      5.876701     2.807676\n",
       "tai15a     11.952317     3.462952\n",
       "tai17a     16.783602     4.756784\n",
       "tai20a     26.885084     6.278623\n",
       "tai25a     48.752121    11.384055\n",
       "tai30a     72.651975    16.028723\n",
       "tai35a    104.675566    25.723301\n",
       "tai40a    138.877012    31.917747\n",
       "tai50a    240.018430    80.082235\n",
       "tai60a    362.103866   135.165362\n",
       "tai80a    611.326147   249.487260\n",
       "tai100a  1023.277234   395.750496"
      ]
     },
     "execution_count": 26,
     "metadata": {},
     "output_type": "execute_result"
    }
   ],
   "source": [
    "data_v1 = []\n",
    "data_v2 = []\n",
    "for instance in list_instances:\n",
    "    df_v1 = pd.read_csv('./data/exports/recuit/v1_'+instance+'.csv', sep=',')\n",
    "    data_v1.append(df_v1.loc[:,\"duration\"].mean())\n",
    "    df_v2 = pd.read_csv('./data/exports/recuit/v2_'+instance+'.csv', sep=',')\n",
    "    data_v2.append(df_v2.loc[:,\"duration\"].mean())\n",
    "pd.DataFrame({'Itération 1':data_v1,'Itération 2':data_v2},index = list_instances)"
   ]
  },
  {
   "cell_type": "markdown",
   "metadata": {},
   "source": [
    "Tableau comparatif du temps de résolution moyen en seconde de chaque instance pour les deux itérations par l'algorithme *Recuit Simulé*."
   ]
  },
  {
   "cell_type": "markdown",
   "metadata": {},
   "source": [
    "##### Comparaison Durée Algorithme Tabou"
   ]
  },
  {
   "cell_type": "code",
   "execution_count": 27,
   "metadata": {},
   "outputs": [
    {
     "data": {
      "text/html": [
       "<div>\n",
       "<style scoped>\n",
       "    .dataframe tbody tr th:only-of-type {\n",
       "        vertical-align: middle;\n",
       "    }\n",
       "\n",
       "    .dataframe tbody tr th {\n",
       "        vertical-align: top;\n",
       "    }\n",
       "\n",
       "    .dataframe thead th {\n",
       "        text-align: right;\n",
       "    }\n",
       "</style>\n",
       "<table border=\"1\" class=\"dataframe\">\n",
       "  <thead>\n",
       "    <tr style=\"text-align: right;\">\n",
       "      <th></th>\n",
       "      <th>Itération 1</th>\n",
       "      <th>Itération 2</th>\n",
       "    </tr>\n",
       "  </thead>\n",
       "  <tbody>\n",
       "    <tr>\n",
       "      <th>tai12a</th>\n",
       "      <td>12.493662</td>\n",
       "      <td>0.447931</td>\n",
       "    </tr>\n",
       "    <tr>\n",
       "      <th>tai15a</th>\n",
       "      <td>28.884919</td>\n",
       "      <td>0.863839</td>\n",
       "    </tr>\n",
       "    <tr>\n",
       "      <th>tai17a</th>\n",
       "      <td>34.917433</td>\n",
       "      <td>0.720158</td>\n",
       "    </tr>\n",
       "    <tr>\n",
       "      <th>tai20a</th>\n",
       "      <td>63.480454</td>\n",
       "      <td>1.313977</td>\n",
       "    </tr>\n",
       "    <tr>\n",
       "      <th>tai25a</th>\n",
       "      <td>66.015064</td>\n",
       "      <td>1.819695</td>\n",
       "    </tr>\n",
       "    <tr>\n",
       "      <th>tai30a</th>\n",
       "      <td>119.523068</td>\n",
       "      <td>2.004940</td>\n",
       "    </tr>\n",
       "    <tr>\n",
       "      <th>tai35a</th>\n",
       "      <td>188.569629</td>\n",
       "      <td>3.609940</td>\n",
       "    </tr>\n",
       "    <tr>\n",
       "      <th>tai40a</th>\n",
       "      <td>278.609565</td>\n",
       "      <td>4.206456</td>\n",
       "    </tr>\n",
       "    <tr>\n",
       "      <th>tai50a</th>\n",
       "      <td>491.619851</td>\n",
       "      <td>6.978436</td>\n",
       "    </tr>\n",
       "    <tr>\n",
       "      <th>tai60a</th>\n",
       "      <td>840.888402</td>\n",
       "      <td>12.409701</td>\n",
       "    </tr>\n",
       "    <tr>\n",
       "      <th>tai80a</th>\n",
       "      <td>1826.802495</td>\n",
       "      <td>23.534064</td>\n",
       "    </tr>\n",
       "    <tr>\n",
       "      <th>tai100a</th>\n",
       "      <td>3255.980902</td>\n",
       "      <td>42.581280</td>\n",
       "    </tr>\n",
       "  </tbody>\n",
       "</table>\n",
       "</div>"
      ],
      "text/plain": [
       "         Itération 1  Itération 2\n",
       "tai12a     12.493662     0.447931\n",
       "tai15a     28.884919     0.863839\n",
       "tai17a     34.917433     0.720158\n",
       "tai20a     63.480454     1.313977\n",
       "tai25a     66.015064     1.819695\n",
       "tai30a    119.523068     2.004940\n",
       "tai35a    188.569629     3.609940\n",
       "tai40a    278.609565     4.206456\n",
       "tai50a    491.619851     6.978436\n",
       "tai60a    840.888402    12.409701\n",
       "tai80a   1826.802495    23.534064\n",
       "tai100a  3255.980902    42.581280"
      ]
     },
     "execution_count": 27,
     "metadata": {},
     "output_type": "execute_result"
    }
   ],
   "source": [
    "data_v1 = []\n",
    "data_v2 = []\n",
    "for instance in list_instances:\n",
    "    df_v1 = pd.read_csv('./data/exports/tabou/v1_'+instance+'.csv', sep=',')\n",
    "    data_v1.append(df_v1.loc[:,\"duration\"].mean())\n",
    "    df_v2 = pd.read_csv('./data/exports/tabou/v2_'+instance+'.csv', sep=',')\n",
    "    data_v2.append(df_v2.loc[:,\"duration\"].mean())\n",
    "pd.DataFrame({'Itération 1':data_v1,'Itération 2':data_v2},index = list_instances)"
   ]
  },
  {
   "cell_type": "markdown",
   "metadata": {},
   "source": [
    "Tableau comparatif du temps de résolution moyen en seconde de chaque instance pour les deux itérations par l'algorithme *Tabou*."
   ]
  },
  {
   "cell_type": "markdown",
   "metadata": {},
   "source": [
    "#### Bilan"
   ]
  },
  {
   "cell_type": "markdown",
   "metadata": {},
   "source": [
    "Nous pouvons remarquer que le travail effectué sur l'optimisation de la fitness a porté ses fruits, puisque globalement le temps de calcul a fortement diminué entre les deux itérations.\n",
    "\n",
    "Pour l'algorithme du *Recuit Simulé*, l'optimisation de la fitness apporte une réduction du temps de calcul de **2,6** sur l'instance.\n",
    "\n",
    "C'est sur l'algorithme de *Tabou* que l'optimisation s'est faite le plus ressentir car de 3256 secondes, soit presque **1 heure**, nous sommes passés à **42 secondes**."
   ]
  },
  {
   "cell_type": "markdown",
   "metadata": {},
   "source": [
    "### Troisième Itération"
   ]
  },
  {
   "cell_type": "markdown",
   "metadata": {},
   "source": [
    "Pour cette troisième et dernière itération, nous avons voulu améliorer les résultats obtenus par nos algorithmes. Pour cela nous comptons jouer sur les paramètres de nos méthodes."
   ]
  },
  {
   "cell_type": "markdown",
   "metadata": {},
   "source": [
    "#### Modification"
   ]
  },
  {
   "cell_type": "markdown",
   "metadata": {},
   "source": [
    "Pour l'algorithme du *Recuit Simulé*, nous avons passé le coefficient **mu** à 0,3 au lieu de 0,9 précédement.\n",
    "\n",
    "Pour l'algorithme *Tabou*, nous avons augmenté la **taille de la liste tabou** à 50 au lieu de 10 précédement."
   ]
  },
  {
   "cell_type": "markdown",
   "metadata": {},
   "source": [
    "#### Résultat"
   ]
  },
  {
   "cell_type": "markdown",
   "metadata": {},
   "source": [
    "Pour l'affichage des résultats pour chaque instance, nous affichons les boites à moustaches de l'itération 3 avec celles de l'itération 1 pour faciliter la lecture des résultats."
   ]
  },
  {
   "cell_type": "markdown",
   "metadata": {},
   "source": [
    "##### Instance Taillard 12 a"
   ]
  },
  {
   "cell_type": "code",
   "execution_count": 28,
   "metadata": {},
   "outputs": [
    {
     "data": {
      "image/png": "[encoded data removed]",
      "text/plain": [
       "<Figure size 432x288 with 1 Axes>"
      ]
     },
     "metadata": {
      "needs_background": "light"
     },
     "output_type": "display_data"
    }
   ],
   "source": [
    "csv_to_multiple_boxplot('tai12a')"
   ]
  },
  {
   "cell_type": "markdown",
   "metadata": {},
   "source": [
    "#### Instance Taillard 15 a"
   ]
  },
  {
   "cell_type": "code",
   "execution_count": 29,
   "metadata": {},
   "outputs": [
    {
     "data": {
      "image/png": "[encoded data removed]",
      "text/plain": [
       "<Figure size 432x288 with 1 Axes>"
      ]
     },
     "metadata": {
      "needs_background": "light"
     },
     "output_type": "display_data"
    }
   ],
   "source": [
    "csv_to_multiple_boxplot('tai15a')"
   ]
  },
  {
   "cell_type": "markdown",
   "metadata": {},
   "source": [
    "##### Instance Taillard 17 a"
   ]
  },
  {
   "cell_type": "code",
   "execution_count": 30,
   "metadata": {},
   "outputs": [
    {
     "data": {
      "image/png": "[encoded data removed]",
      "text/plain": [
       "<Figure size 432x288 with 1 Axes>"
      ]
     },
     "metadata": {
      "needs_background": "light"
     },
     "output_type": "display_data"
    }
   ],
   "source": [
    "csv_to_multiple_boxplot('tai17a')"
   ]
  },
  {
   "cell_type": "markdown",
   "metadata": {},
   "source": [
    "##### Instance Taillard 20 a"
   ]
  },
  {
   "cell_type": "code",
   "execution_count": 31,
   "metadata": {},
   "outputs": [
    {
     "data": {
      "image/png": "[encoded data removed]",
      "text/plain": [
       "<Figure size 432x288 with 1 Axes>"
      ]
     },
     "metadata": {
      "needs_background": "light"
     },
     "output_type": "display_data"
    }
   ],
   "source": [
    "csv_to_multiple_boxplot('tai20a')"
   ]
  },
  {
   "cell_type": "markdown",
   "metadata": {},
   "source": [
    "##### Instance Taillard 25 a"
   ]
  },
  {
   "cell_type": "code",
   "execution_count": 32,
   "metadata": {},
   "outputs": [
    {
     "data": {
      "image/png": "[encoded data removed]",
      "text/plain": [
       "<Figure size 432x288 with 1 Axes>"
      ]
     },
     "metadata": {
      "needs_background": "light"
     },
     "output_type": "display_data"
    }
   ],
   "source": [
    "csv_to_multiple_boxplot('tai25a')"
   ]
  },
  {
   "cell_type": "markdown",
   "metadata": {},
   "source": [
    "##### Instance Taillard 30 a"
   ]
  },
  {
   "cell_type": "code",
   "execution_count": 33,
   "metadata": {},
   "outputs": [
    {
     "data": {
      "image/png": "[encoded data removed]",
      "text/plain": [
       "<Figure size 432x288 with 1 Axes>"
      ]
     },
     "metadata": {
      "needs_background": "light"
     },
     "output_type": "display_data"
    }
   ],
   "source": [
    "csv_to_multiple_boxplot('tai30a')"
   ]
  },
  {
   "cell_type": "markdown",
   "metadata": {},
   "source": [
    "##### Instance Taillard 35 a"
   ]
  },
  {
   "cell_type": "code",
   "execution_count": 34,
   "metadata": {},
   "outputs": [
    {
     "data": {
      "image/png": "[encoded data removed]",
      "text/plain": [
       "<Figure size 432x288 with 1 Axes>"
      ]
     },
     "metadata": {
      "needs_background": "light"
     },
     "output_type": "display_data"
    }
   ],
   "source": [
    "csv_to_multiple_boxplot('tai35a')"
   ]
  },
  {
   "cell_type": "markdown",
   "metadata": {},
   "source": [
    "##### Instance Tallard 40 a"
   ]
  },
  {
   "cell_type": "code",
   "execution_count": 35,
   "metadata": {},
   "outputs": [
    {
     "data": {
      "image/png": "[encoded data removed]",
      "text/plain": [
       "<Figure size 432x288 with 1 Axes>"
      ]
     },
     "metadata": {
      "needs_background": "light"
     },
     "output_type": "display_data"
    }
   ],
   "source": [
    "csv_to_multiple_boxplot('tai40a')"
   ]
  },
  {
   "cell_type": "markdown",
   "metadata": {},
   "source": [
    "##### Instance Taillard 50 a"
   ]
  },
  {
   "cell_type": "code",
   "execution_count": 36,
   "metadata": {},
   "outputs": [
    {
     "data": {
      "image/png": "[encoded data removed]",
      "text/plain": [
       "<Figure size 432x288 with 1 Axes>"
      ]
     },
     "metadata": {
      "needs_background": "light"
     },
     "output_type": "display_data"
    }
   ],
   "source": [
    "csv_to_multiple_boxplot('tai50a')"
   ]
  },
  {
   "cell_type": "markdown",
   "metadata": {},
   "source": [
    "##### Instance Taillard 60 a"
   ]
  },
  {
   "cell_type": "code",
   "execution_count": 37,
   "metadata": {},
   "outputs": [
    {
     "data": {
      "image/png": "[encoded data removed]",
      "text/plain": [
       "<Figure size 432x288 with 1 Axes>"
      ]
     },
     "metadata": {
      "needs_background": "light"
     },
     "output_type": "display_data"
    }
   ],
   "source": [
    "csv_to_multiple_boxplot('tai60a')"
   ]
  },
  {
   "cell_type": "markdown",
   "metadata": {},
   "source": [
    "##### Instance Taillard 80 a"
   ]
  },
  {
   "cell_type": "code",
   "execution_count": 38,
   "metadata": {},
   "outputs": [
    {
     "data": {
      "image/png": "[encoded data removed]",
      "text/plain": [
       "<Figure size 432x288 with 1 Axes>"
      ]
     },
     "metadata": {
      "needs_background": "light"
     },
     "output_type": "display_data"
    }
   ],
   "source": [
    "csv_to_multiple_boxplot('tai80a')"
   ]
  },
  {
   "cell_type": "markdown",
   "metadata": {},
   "source": [
    "##### Instance Taillard 100 a"
   ]
  },
  {
   "cell_type": "code",
   "execution_count": 39,
   "metadata": {},
   "outputs": [
    {
     "data": {
      "image/png": "[encoded data removed]",
      "text/plain": [
       "<Figure size 432x288 with 1 Axes>"
      ]
     },
     "metadata": {
      "needs_background": "light"
     },
     "output_type": "display_data"
    }
   ],
   "source": [
    "csv_to_multiple_boxplot('tai100a')"
   ]
  },
  {
   "cell_type": "markdown",
   "metadata": {},
   "source": [
    "#### Bilan\n",
    "\n"
   ]
  },
  {
   "cell_type": "markdown",
   "metadata": {},
   "source": [
    "Le changement du coefficient **mu** n'a pas eu beaucoup d'importance dans les résultats obtenus.\n",
    "\n",
    "Quand au changement de la **taille de liste tabou**, la modification a dégrader nos résultats."
   ]
  },
  {
   "cell_type": "markdown",
   "metadata": {},
   "source": [
    "## Conclusion\n",
    "\n",
    "Dans le cadre de ce projet, nous avons pu implémenter les algorithmes de *Recuit Simulé* et de *Tabou* qui nous ont permis de résoudre des problèmes d'affectation. Cela a été l'occasion pour nous de se documenter sur le problème d'affection quadratique.\n",
    "\n",
    "Ce projet a aussi été l'occasion pour nous de développer notre premier logiciel avec le langage Python. C'est pourquoi notre code n'est forcément le plus optimisé possible."
   ]
  }
 ],
 "metadata": {
  "kernelspec": {
   "display_name": "Python 3",
   "language": "python",
   "name": "python3"
  },
  "language_info": {
   "codemirror_mode": {
    "name": "ipython",
    "version": 3
   },
   "file_extension": ".py",
   "mimetype": "text/x-python",
   "name": "python",
   "nbconvert_exporter": "python",
   "pygments_lexer": "ipython3",
   "version": "3.7.3"
  }
 },
 "nbformat": 4,
 "nbformat_minor": 2
}

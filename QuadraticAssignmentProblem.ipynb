{
 "cells": [
  {
   "cell_type": "markdown",
   "metadata": {},
   "source": [
    "# Projet Quadratic Assignment Problem\n",
    "\n",
    "*Antoine PERRIN & Matthieu CAYET*"
   ]
  },
  {
   "cell_type": "code",
   "execution_count": 1,
   "metadata": {},
   "outputs": [],
   "source": [
    "# Appelles techniques\n",
    "\n",
    "from ipywidgets import interact, interactive, fixed, interact_manual\n",
    "import ipywidgets as widgets\n",
    "from IPython.display import display\n",
    "from Services.Fitness import Fitness as ft"
   ]
  },
  {
   "cell_type": "markdown",
   "metadata": {},
   "source": [
    "## Présentation"
   ]
  },
  {
   "cell_type": "markdown",
   "metadata": {},
   "source": [
    "### Jeux de données"
   ]
  },
  {
   "cell_type": "markdown",
   "metadata": {},
   "source": [
    "Pour ce projet, nous avons utilisé les [instances \"Tai..a\" de Taillard](http://anjos.mgi.polymtl.ca/qaplib/inst.html#Ta). Chaque instance est caractérisé par:\n",
    "* un nombre *n* équivalent à la taille de l'instance\n",
    "* une matrice de distances *A*\n",
    "* une matrice de flux (ou de poids) *B*\n",
    "\n",
    "Nous utilisons les instances suivantes:\n",
    "* Tai12a\n",
    "* Tai15a\n",
    "* Tai17a\n",
    "* Tai20a\n",
    "* Tai25a\n",
    "* Tai30a\n",
    "* Tai35a\n",
    "* Tai40a\n",
    "* Tai50a\n",
    "* Tai60a\n",
    "* Tai80a\n",
    "* Tai100a"
   ]
  },
  {
   "cell_type": "markdown",
   "metadata": {},
   "source": [
    "#### Exemple d'instance Taillard 12"
   ]
  },
  {
   "cell_type": "code",
   "execution_count": 2,
   "metadata": {},
   "outputs": [],
   "source": [
    "import pandas as pd\n",
    "from Models.TaillardParser import TaillardParser as tp\n",
    "\n",
    "tai12a = tp('tai12a.dat')"
   ]
  },
  {
   "cell_type": "markdown",
   "metadata": {},
   "source": [
    "##### Matrice de distance"
   ]
  },
  {
   "cell_type": "code",
   "execution_count": 3,
   "metadata": {},
   "outputs": [
    {
     "data": {
      "text/html": [
       "<div>\n",
       "<style scoped>\n",
       "    .dataframe tbody tr th:only-of-type {\n",
       "        vertical-align: middle;\n",
       "    }\n",
       "\n",
       "    .dataframe tbody tr th {\n",
       "        vertical-align: top;\n",
       "    }\n",
       "\n",
       "    .dataframe thead th {\n",
       "        text-align: right;\n",
       "    }\n",
       "</style>\n",
       "<table border=\"1\" class=\"dataframe\">\n",
       "  <thead>\n",
       "    <tr style=\"text-align: right;\">\n",
       "      <th></th>\n",
       "      <th>0</th>\n",
       "      <th>1</th>\n",
       "      <th>2</th>\n",
       "      <th>3</th>\n",
       "      <th>4</th>\n",
       "      <th>5</th>\n",
       "      <th>6</th>\n",
       "      <th>7</th>\n",
       "      <th>8</th>\n",
       "      <th>9</th>\n",
       "      <th>10</th>\n",
       "      <th>11</th>\n",
       "    </tr>\n",
       "  </thead>\n",
       "  <tbody>\n",
       "    <tr>\n",
       "      <th>0</th>\n",
       "      <td>0</td>\n",
       "      <td>27</td>\n",
       "      <td>85</td>\n",
       "      <td>2</td>\n",
       "      <td>1</td>\n",
       "      <td>15</td>\n",
       "      <td>11</td>\n",
       "      <td>35</td>\n",
       "      <td>11</td>\n",
       "      <td>20</td>\n",
       "      <td>21</td>\n",
       "      <td>61</td>\n",
       "    </tr>\n",
       "    <tr>\n",
       "      <th>1</th>\n",
       "      <td>27</td>\n",
       "      <td>0</td>\n",
       "      <td>80</td>\n",
       "      <td>58</td>\n",
       "      <td>21</td>\n",
       "      <td>76</td>\n",
       "      <td>72</td>\n",
       "      <td>44</td>\n",
       "      <td>85</td>\n",
       "      <td>94</td>\n",
       "      <td>90</td>\n",
       "      <td>51</td>\n",
       "    </tr>\n",
       "    <tr>\n",
       "      <th>2</th>\n",
       "      <td>85</td>\n",
       "      <td>80</td>\n",
       "      <td>0</td>\n",
       "      <td>3</td>\n",
       "      <td>48</td>\n",
       "      <td>29</td>\n",
       "      <td>90</td>\n",
       "      <td>66</td>\n",
       "      <td>41</td>\n",
       "      <td>15</td>\n",
       "      <td>83</td>\n",
       "      <td>96</td>\n",
       "    </tr>\n",
       "    <tr>\n",
       "      <th>3</th>\n",
       "      <td>2</td>\n",
       "      <td>58</td>\n",
       "      <td>3</td>\n",
       "      <td>0</td>\n",
       "      <td>74</td>\n",
       "      <td>45</td>\n",
       "      <td>65</td>\n",
       "      <td>40</td>\n",
       "      <td>54</td>\n",
       "      <td>83</td>\n",
       "      <td>14</td>\n",
       "      <td>71</td>\n",
       "    </tr>\n",
       "    <tr>\n",
       "      <th>4</th>\n",
       "      <td>1</td>\n",
       "      <td>21</td>\n",
       "      <td>48</td>\n",
       "      <td>74</td>\n",
       "      <td>0</td>\n",
       "      <td>77</td>\n",
       "      <td>36</td>\n",
       "      <td>53</td>\n",
       "      <td>37</td>\n",
       "      <td>26</td>\n",
       "      <td>87</td>\n",
       "      <td>76</td>\n",
       "    </tr>\n",
       "    <tr>\n",
       "      <th>5</th>\n",
       "      <td>15</td>\n",
       "      <td>76</td>\n",
       "      <td>29</td>\n",
       "      <td>45</td>\n",
       "      <td>77</td>\n",
       "      <td>0</td>\n",
       "      <td>91</td>\n",
       "      <td>13</td>\n",
       "      <td>29</td>\n",
       "      <td>11</td>\n",
       "      <td>77</td>\n",
       "      <td>32</td>\n",
       "    </tr>\n",
       "    <tr>\n",
       "      <th>6</th>\n",
       "      <td>11</td>\n",
       "      <td>72</td>\n",
       "      <td>90</td>\n",
       "      <td>65</td>\n",
       "      <td>36</td>\n",
       "      <td>91</td>\n",
       "      <td>0</td>\n",
       "      <td>87</td>\n",
       "      <td>67</td>\n",
       "      <td>94</td>\n",
       "      <td>79</td>\n",
       "      <td>2</td>\n",
       "    </tr>\n",
       "    <tr>\n",
       "      <th>7</th>\n",
       "      <td>35</td>\n",
       "      <td>44</td>\n",
       "      <td>66</td>\n",
       "      <td>40</td>\n",
       "      <td>53</td>\n",
       "      <td>13</td>\n",
       "      <td>87</td>\n",
       "      <td>0</td>\n",
       "      <td>10</td>\n",
       "      <td>99</td>\n",
       "      <td>56</td>\n",
       "      <td>70</td>\n",
       "    </tr>\n",
       "    <tr>\n",
       "      <th>8</th>\n",
       "      <td>11</td>\n",
       "      <td>85</td>\n",
       "      <td>41</td>\n",
       "      <td>54</td>\n",
       "      <td>37</td>\n",
       "      <td>29</td>\n",
       "      <td>67</td>\n",
       "      <td>10</td>\n",
       "      <td>0</td>\n",
       "      <td>99</td>\n",
       "      <td>60</td>\n",
       "      <td>4</td>\n",
       "    </tr>\n",
       "    <tr>\n",
       "      <th>9</th>\n",
       "      <td>20</td>\n",
       "      <td>94</td>\n",
       "      <td>15</td>\n",
       "      <td>83</td>\n",
       "      <td>26</td>\n",
       "      <td>11</td>\n",
       "      <td>94</td>\n",
       "      <td>99</td>\n",
       "      <td>99</td>\n",
       "      <td>0</td>\n",
       "      <td>56</td>\n",
       "      <td>2</td>\n",
       "    </tr>\n",
       "    <tr>\n",
       "      <th>10</th>\n",
       "      <td>21</td>\n",
       "      <td>90</td>\n",
       "      <td>83</td>\n",
       "      <td>14</td>\n",
       "      <td>87</td>\n",
       "      <td>77</td>\n",
       "      <td>79</td>\n",
       "      <td>56</td>\n",
       "      <td>60</td>\n",
       "      <td>56</td>\n",
       "      <td>0</td>\n",
       "      <td>60</td>\n",
       "    </tr>\n",
       "    <tr>\n",
       "      <th>11</th>\n",
       "      <td>61</td>\n",
       "      <td>51</td>\n",
       "      <td>96</td>\n",
       "      <td>71</td>\n",
       "      <td>76</td>\n",
       "      <td>32</td>\n",
       "      <td>2</td>\n",
       "      <td>70</td>\n",
       "      <td>4</td>\n",
       "      <td>2</td>\n",
       "      <td>60</td>\n",
       "      <td>0</td>\n",
       "    </tr>\n",
       "  </tbody>\n",
       "</table>\n",
       "</div>"
      ],
      "text/plain": [
       "    0   1   2   3   4   5   6   7   8   9   10  11\n",
       "0    0  27  85   2   1  15  11  35  11  20  21  61\n",
       "1   27   0  80  58  21  76  72  44  85  94  90  51\n",
       "2   85  80   0   3  48  29  90  66  41  15  83  96\n",
       "3    2  58   3   0  74  45  65  40  54  83  14  71\n",
       "4    1  21  48  74   0  77  36  53  37  26  87  76\n",
       "5   15  76  29  45  77   0  91  13  29  11  77  32\n",
       "6   11  72  90  65  36  91   0  87  67  94  79   2\n",
       "7   35  44  66  40  53  13  87   0  10  99  56  70\n",
       "8   11  85  41  54  37  29  67  10   0  99  60   4\n",
       "9   20  94  15  83  26  11  94  99  99   0  56   2\n",
       "10  21  90  83  14  87  77  79  56  60  56   0  60\n",
       "11  61  51  96  71  76  32   2  70   4   2  60   0"
      ]
     },
     "execution_count": 3,
     "metadata": {},
     "output_type": "execute_result"
    }
   ],
   "source": [
    "pd.DataFrame(tai12a.get_distance_matrix())"
   ]
  },
  {
   "cell_type": "markdown",
   "metadata": {},
   "source": [
    "##### Matrice de flux"
   ]
  },
  {
   "cell_type": "code",
   "execution_count": 4,
   "metadata": {},
   "outputs": [
    {
     "data": {
      "text/html": [
       "<div>\n",
       "<style scoped>\n",
       "    .dataframe tbody tr th:only-of-type {\n",
       "        vertical-align: middle;\n",
       "    }\n",
       "\n",
       "    .dataframe tbody tr th {\n",
       "        vertical-align: top;\n",
       "    }\n",
       "\n",
       "    .dataframe thead th {\n",
       "        text-align: right;\n",
       "    }\n",
       "</style>\n",
       "<table border=\"1\" class=\"dataframe\">\n",
       "  <thead>\n",
       "    <tr style=\"text-align: right;\">\n",
       "      <th></th>\n",
       "      <th>0</th>\n",
       "      <th>1</th>\n",
       "      <th>2</th>\n",
       "      <th>3</th>\n",
       "      <th>4</th>\n",
       "      <th>5</th>\n",
       "      <th>6</th>\n",
       "      <th>7</th>\n",
       "      <th>8</th>\n",
       "      <th>9</th>\n",
       "      <th>10</th>\n",
       "      <th>11</th>\n",
       "    </tr>\n",
       "  </thead>\n",
       "  <tbody>\n",
       "    <tr>\n",
       "      <th>0</th>\n",
       "      <td>0</td>\n",
       "      <td>21</td>\n",
       "      <td>95</td>\n",
       "      <td>82</td>\n",
       "      <td>56</td>\n",
       "      <td>41</td>\n",
       "      <td>6</td>\n",
       "      <td>25</td>\n",
       "      <td>10</td>\n",
       "      <td>4</td>\n",
       "      <td>63</td>\n",
       "      <td>6.0</td>\n",
       "    </tr>\n",
       "    <tr>\n",
       "      <th>1</th>\n",
       "      <td>21</td>\n",
       "      <td>0</td>\n",
       "      <td>44</td>\n",
       "      <td>40</td>\n",
       "      <td>75</td>\n",
       "      <td>79</td>\n",
       "      <td>0</td>\n",
       "      <td>89</td>\n",
       "      <td>35</td>\n",
       "      <td>9</td>\n",
       "      <td>1</td>\n",
       "      <td>85.0</td>\n",
       "    </tr>\n",
       "    <tr>\n",
       "      <th>2</th>\n",
       "      <td>95</td>\n",
       "      <td>44</td>\n",
       "      <td>0</td>\n",
       "      <td>84</td>\n",
       "      <td>12</td>\n",
       "      <td>0</td>\n",
       "      <td>26</td>\n",
       "      <td>91</td>\n",
       "      <td>11</td>\n",
       "      <td>35</td>\n",
       "      <td>82</td>\n",
       "      <td>26.0</td>\n",
       "    </tr>\n",
       "    <tr>\n",
       "      <th>3</th>\n",
       "      <td>82</td>\n",
       "      <td>40</td>\n",
       "      <td>84</td>\n",
       "      <td>0</td>\n",
       "      <td>69</td>\n",
       "      <td>56</td>\n",
       "      <td>86</td>\n",
       "      <td>45</td>\n",
       "      <td>91</td>\n",
       "      <td>59</td>\n",
       "      <td>18</td>\n",
       "      <td>76.0</td>\n",
       "    </tr>\n",
       "    <tr>\n",
       "      <th>4</th>\n",
       "      <td>56</td>\n",
       "      <td>75</td>\n",
       "      <td>12</td>\n",
       "      <td>69</td>\n",
       "      <td>0</td>\n",
       "      <td>39</td>\n",
       "      <td>18</td>\n",
       "      <td>57</td>\n",
       "      <td>36</td>\n",
       "      <td>61</td>\n",
       "      <td>36</td>\n",
       "      <td>21.0</td>\n",
       "    </tr>\n",
       "    <tr>\n",
       "      <th>5</th>\n",
       "      <td>41</td>\n",
       "      <td>79</td>\n",
       "      <td>0</td>\n",
       "      <td>56</td>\n",
       "      <td>39</td>\n",
       "      <td>0</td>\n",
       "      <td>71</td>\n",
       "      <td>11</td>\n",
       "      <td>29</td>\n",
       "      <td>82</td>\n",
       "      <td>82</td>\n",
       "      <td>6.0</td>\n",
       "    </tr>\n",
       "    <tr>\n",
       "      <th>6</th>\n",
       "      <td>6</td>\n",
       "      <td>0</td>\n",
       "      <td>26</td>\n",
       "      <td>86</td>\n",
       "      <td>18</td>\n",
       "      <td>71</td>\n",
       "      <td>0</td>\n",
       "      <td>71</td>\n",
       "      <td>8</td>\n",
       "      <td>77</td>\n",
       "      <td>74</td>\n",
       "      <td>30.0</td>\n",
       "    </tr>\n",
       "    <tr>\n",
       "      <th>7</th>\n",
       "      <td>25</td>\n",
       "      <td>89</td>\n",
       "      <td>91</td>\n",
       "      <td>45</td>\n",
       "      <td>57</td>\n",
       "      <td>11</td>\n",
       "      <td>71</td>\n",
       "      <td>0</td>\n",
       "      <td>89</td>\n",
       "      <td>76</td>\n",
       "      <td>76</td>\n",
       "      <td>40.0</td>\n",
       "    </tr>\n",
       "    <tr>\n",
       "      <th>8</th>\n",
       "      <td>10</td>\n",
       "      <td>35</td>\n",
       "      <td>11</td>\n",
       "      <td>91</td>\n",
       "      <td>36</td>\n",
       "      <td>29</td>\n",
       "      <td>8</td>\n",
       "      <td>89</td>\n",
       "      <td>0</td>\n",
       "      <td>93</td>\n",
       "      <td>56</td>\n",
       "      <td>1.0</td>\n",
       "    </tr>\n",
       "    <tr>\n",
       "      <th>9</th>\n",
       "      <td>4</td>\n",
       "      <td>9</td>\n",
       "      <td>35</td>\n",
       "      <td>59</td>\n",
       "      <td>61</td>\n",
       "      <td>82</td>\n",
       "      <td>77</td>\n",
       "      <td>76</td>\n",
       "      <td>93</td>\n",
       "      <td>0</td>\n",
       "      <td>50</td>\n",
       "      <td>4.0</td>\n",
       "    </tr>\n",
       "    <tr>\n",
       "      <th>10</th>\n",
       "      <td>63</td>\n",
       "      <td>1</td>\n",
       "      <td>82</td>\n",
       "      <td>18</td>\n",
       "      <td>36</td>\n",
       "      <td>82</td>\n",
       "      <td>74</td>\n",
       "      <td>76</td>\n",
       "      <td>56</td>\n",
       "      <td>50</td>\n",
       "      <td>0</td>\n",
       "      <td>36.0</td>\n",
       "    </tr>\n",
       "    <tr>\n",
       "      <th>11</th>\n",
       "      <td>6</td>\n",
       "      <td>85</td>\n",
       "      <td>26</td>\n",
       "      <td>76</td>\n",
       "      <td>21</td>\n",
       "      <td>6</td>\n",
       "      <td>30</td>\n",
       "      <td>40</td>\n",
       "      <td>1</td>\n",
       "      <td>4</td>\n",
       "      <td>36</td>\n",
       "      <td>NaN</td>\n",
       "    </tr>\n",
       "  </tbody>\n",
       "</table>\n",
       "</div>"
      ],
      "text/plain": [
       "    0   1   2   3   4   5   6   7   8   9   10    11\n",
       "0    0  21  95  82  56  41   6  25  10   4  63   6.0\n",
       "1   21   0  44  40  75  79   0  89  35   9   1  85.0\n",
       "2   95  44   0  84  12   0  26  91  11  35  82  26.0\n",
       "3   82  40  84   0  69  56  86  45  91  59  18  76.0\n",
       "4   56  75  12  69   0  39  18  57  36  61  36  21.0\n",
       "5   41  79   0  56  39   0  71  11  29  82  82   6.0\n",
       "6    6   0  26  86  18  71   0  71   8  77  74  30.0\n",
       "7   25  89  91  45  57  11  71   0  89  76  76  40.0\n",
       "8   10  35  11  91  36  29   8  89   0  93  56   1.0\n",
       "9    4   9  35  59  61  82  77  76  93   0  50   4.0\n",
       "10  63   1  82  18  36  82  74  76  56  50   0  36.0\n",
       "11   6  85  26  76  21   6  30  40   1   4  36   NaN"
      ]
     },
     "execution_count": 4,
     "metadata": {},
     "output_type": "execute_result"
    }
   ],
   "source": [
    "pd.DataFrame(tai12a.get_connexion_matrix())"
   ]
  },
  {
   "cell_type": "markdown",
   "metadata": {},
   "source": [
    "### Voisinage"
   ]
  },
  {
   "cell_type": "markdown",
   "metadata": {},
   "source": [
    "Afin de varier les résultats possibles, nous avons implémenter plusieurs manières de calculer le voisinage d'un élement.\n",
    "\n",
    "*Par soucis de compéhension, l'ensemble des exemples de cette partie se font sur l'instance Tai12a.*"
   ]
  },
  {
   "cell_type": "code",
   "execution_count": 5,
   "metadata": {},
   "outputs": [],
   "source": [
    "from Services.Voisinage import Voisinage as vn"
   ]
  },
  {
   "cell_type": "markdown",
   "metadata": {},
   "source": [
    "#### Voisinage par distance"
   ]
  },
  {
   "cell_type": "markdown",
   "metadata": {},
   "source": [
    "Ce fut notre première manière d'implémenter le voisinage.\n",
    "\n",
    "Son principe est simple. Nous intervertissons uniquement les éléments dont la distance est inférieur à la distance maximale définie.\n",
    "\n",
    "La méthode `get_permutations_by_distances` nous permet de calculer à l'avance la liste des emplacements à échanger à chaque nouveau calcul de voisinage."
   ]
  },
  {
   "cell_type": "markdown",
   "metadata": {},
   "source": [
    "##### Exemple"
   ]
  },
  {
   "cell_type": "code",
   "execution_count": 6,
   "metadata": {},
   "outputs": [
    {
     "data": {
      "application/vnd.jupyter.widget-view+json": {
       "model_id": "6584c331ec354f1892ebb6c9a083e86e",
       "version_major": 2,
       "version_minor": 0
      },
      "text/plain": [
       "interactive(children=(IntSlider(value=50, description='distance', min=1), Output()), _dom_classes=('widget-int…"
      ]
     },
     "metadata": {},
     "output_type": "display_data"
    }
   ],
   "source": [
    "vn_distance = vn(tai12a.get_distance_matrix(),\"distances\",1)\n",
    "def show_vn_distance(vn,distance):\n",
    "    df = pd.DataFrame(vn.get_permutations_by_distances(vn.distances, distance), columns=['a','b'])\n",
    "    print(df.to_string(index=False))\n",
    "\n",
    "display(interactive(show_vn_distance, vn=fixed(vn_distance), distance=(1,100)))"
   ]
  },
  {
   "cell_type": "markdown",
   "metadata": {},
   "source": [
    "Nous récupérons ainsi la liste des éléments ayant une distance inférieure à la distance sélectionnée."
   ]
  },
  {
   "cell_type": "markdown",
   "metadata": {},
   "source": [
    "##### Avantages"
   ]
  },
  {
   "cell_type": "markdown",
   "metadata": {},
   "source": [
    "Le gros avantage de cette technique est qu'elle rapide puisqu'elle necessite de parcour la matrice de distance qu'une seule fois.\n",
    "\n",
    "De plus, il est facile ce mode de sélection puisque nous cherchons la liste des emplacements \"physiquements\" proches."
   ]
  },
  {
   "cell_type": "markdown",
   "metadata": {},
   "source": [
    "##### Inconvénients"
   ]
  },
  {
   "cell_type": "markdown",
   "metadata": {},
   "source": [
    "Nous avons trouvé plusieurs inconvénients à cette méthode.\n",
    "\n",
    "La première est qu'il se peut que des emplacements ne soient jamais sélectionner si leur distance minimale est supérieur à la distance sélectionnée.\n",
    "\n",
    "Ensuite, avec un nombre plus importants de emplacements, notre tableau risque de grossir énormément vite."
   ]
  },
  {
   "cell_type": "markdown",
   "metadata": {},
   "source": [
    "#### Voisinage aléatoire"
   ]
  },
  {
   "cell_type": "markdown",
   "metadata": {},
   "source": [
    "Nous tirons aléatoirement une liste de permutations parmit toutes les permutations de l'instance."
   ]
  },
  {
   "cell_type": "markdown",
   "metadata": {},
   "source": [
    "##### Exemple"
   ]
  },
  {
   "cell_type": "code",
   "execution_count": 7,
   "metadata": {},
   "outputs": [
    {
     "data": {
      "application/vnd.jupyter.widget-view+json": {
       "model_id": "162db778742e406fb01e582921d7b51a",
       "version_major": 2,
       "version_minor": 0
      },
      "text/plain": [
       "interactive(children=(IntSlider(value=35, description='taille', max=70, min=1), Output()), _dom_classes=('widg…"
      ]
     },
     "metadata": {},
     "output_type": "display_data"
    }
   ],
   "source": [
    "vn_random = vn(tai12a.get_distance_matrix(),\"random\",15)\n",
    "\n",
    "def show_vn_random(vn,taille):\n",
    "    permutations = vn.get_permutations_random(vn.distances, taille)\n",
    "    df = pd.DataFrame(permutations, columns=['a','b'])\n",
    "    print(df.to_string(index=False))\n",
    "\n",
    "display(interactive(show_vn_random, vn=fixed(vn_random), taille=(1,70)))"
   ]
  },
  {
   "cell_type": "markdown",
   "metadata": {},
   "source": [
    "##### Avantages"
   ]
  },
  {
   "cell_type": "markdown",
   "metadata": {},
   "source": [
    "Chaque emplacements à la meme probabilité d'apparaitre dans une liste de voisins meme s'il est isolé des autres emplacements."
   ]
  },
  {
   "cell_type": "markdown",
   "metadata": {},
   "source": [
    "##### Inconvénients"
   ]
  },
  {
   "cell_type": "markdown",
   "metadata": {},
   "source": [
    "Fonctionnement non déterministe, nous ne pouvons pas assurer qu'un emplacement soit visiter au moins une fois."
   ]
  },
  {
   "cell_type": "markdown",
   "metadata": {},
   "source": [
    "#### Voisinage complet"
   ]
  },
  {
   "cell_type": "markdown",
   "metadata": {},
   "source": [
    "Nous récupérons l'ensemble des possiblités de permutations de notre instance."
   ]
  },
  {
   "cell_type": "markdown",
   "metadata": {},
   "source": [
    "##### Exemple"
   ]
  },
  {
   "cell_type": "code",
   "execution_count": 8,
   "metadata": {},
   "outputs": [
    {
     "data": {
      "application/vnd.jupyter.widget-view+json": {
       "model_id": "45ce43357e964344a7dd0197345f18b9",
       "version_major": 2,
       "version_minor": 0
      },
      "text/plain": [
       "interactive(children=(Output(),), _dom_classes=('widget-interact',))"
      ]
     },
     "metadata": {},
     "output_type": "display_data"
    }
   ],
   "source": [
    "vn_default = vn(tai12a.get_distance_matrix())\n",
    "\n",
    "def show_vn_default(vn):\n",
    "    df = pd.DataFrame(vn.get_permutations(vn.distances), columns=['a','b'])\n",
    "    print(df.to_string(index=False))\n",
    "\n",
    "display(interactive(show_vn_default, vn=fixed(vn_default)))"
   ]
  },
  {
   "cell_type": "markdown",
   "metadata": {},
   "source": [
    "##### Avantages"
   ]
  },
  {
   "cell_type": "markdown",
   "metadata": {},
   "source": [
    "Cette façon de calculer les voisins est déterministe. Nous sommes sur que l'ensemble des voisins soient visiter."
   ]
  },
  {
   "cell_type": "markdown",
   "metadata": {},
   "source": [
    "##### Inconvénients"
   ]
  },
  {
   "cell_type": "markdown",
   "metadata": {},
   "source": [
    "Cette façon de faire est lourde et la liste grandit de façon exponentielle suivant le nombre d'emplacements total."
   ]
  },
  {
   "cell_type": "markdown",
   "metadata": {},
   "source": [
    "### Algorithmes QAP"
   ]
  },
  {
   "cell_type": "markdown",
   "metadata": {},
   "source": [
    "Afin de vérifier le bon fonctionnement de nos algorithmes, nous avons utiliser la librairie de tests unitaires `unittest`.\n",
    "\n",
    "Tous nos tests sont accessibles dans le dossier `Tests` présent à la source de notre projet."
   ]
  },
  {
   "cell_type": "markdown",
   "metadata": {},
   "source": [
    "#### Recuit Simulé"
   ]
  },
  {
   "cell_type": "markdown",
   "metadata": {},
   "source": [
    "##### Code"
   ]
  },
  {
   "cell_type": "markdown",
   "metadata": {},
   "source": [
    "La méthode de résolution du QAP par l'algorithme du Recuit Simulé a été implémenté ainsi:\n",
    "\n",
    "```python\n",
    "def resolve(self, x: list, t: float, numberchangetemp: int, numbermovestemp: int, mu: float):\n",
    "    xmin = nextx = x\n",
    "    fmin = fx = fnextx = self.fitness.calcul(x)\n",
    "\n",
    "    # instanciate var\n",
    "    delta = 0\n",
    "    y = []\n",
    "    fy = 0\n",
    "    k = 0\n",
    "\n",
    "    for k in range(0, numberchangetemp):\n",
    "        for l in range(1, numbermovestemp):\n",
    "            x = nextx\n",
    "            fx = fnextx\n",
    "            # select y\n",
    "            y = random.choice(self.voisinage.get_voisins(x))\n",
    "            fy = self.fitness.calcul(y)\n",
    "            delta = fy - fx\n",
    "\n",
    "            if delta <= 0:\n",
    "                nextx = y\n",
    "                fnextx = fy\n",
    "                if fy < fmin:\n",
    "                    xmin = y\n",
    "                    fmin = fy\n",
    "            else:\n",
    "                p = round(random.uniform(0,1), 1)\n",
    "                if p <= math.exp(-delta / t):\n",
    "                    nextx = y\n",
    "                else:\n",
    "                    nextx = x\n",
    "        t = mu * t\n",
    "        k = k + 1\n",
    "\n",
    "    return xmin\n",
    "```"
   ]
  },
  {
   "cell_type": "markdown",
   "metadata": {},
   "source": [
    "##### Explications"
   ]
  },
  {
   "cell_type": "markdown",
   "metadata": {},
   "source": [
    "Notre méthode prend en paramètres:\n",
    "* une combinaison initiale `x` tirée de notre instance.\n",
    "* une température `t` qui est notre température initiale\n",
    "* un nombre de changement de température `numberchangetemp`\n",
    "* un nombre de déplacement à une température `numbermovestemp`\n",
    "* une constante `mu` qui est le coefficient chargé de faire varier la température. \n",
    "\n",
    "Pour chaque température, nous allons visiter un voisin tiré au hasard de `x`.\n",
    "Si ce voisin a une meilleure fitness, nous le choisissons. Sinon suivant la valeur aléatoire tirée, soit nous choisissons notre `x` actuel, soit c'est le voisin que nous venons de tiré qui sera utilisé.\n",
    "\n",
    "Une fois tous les changements de températures éffectués, l'algorithme nous retourne la combinaison ayant la plus petite fitness."
   ]
  },
  {
   "cell_type": "markdown",
   "metadata": {},
   "source": [
    "##### Démonstration"
   ]
  },
  {
   "cell_type": "code",
   "execution_count": 9,
   "metadata": {},
   "outputs": [
    {
     "data": {
      "application/vnd.jupyter.widget-view+json": {
       "model_id": "586890de03e24b5fa0b3dedc9c2a1b21",
       "version_major": 2,
       "version_minor": 0
      },
      "text/plain": [
       "interactive(children=(Dropdown(description='taille', options=(-1, 0, 1, 2, 3, 4, 5, 6, 7, 8, 9, 10, 11, 12, 13…"
      ]
     },
     "metadata": {},
     "output_type": "display_data"
    },
    {
     "data": {
      "application/vnd.jupyter.widget-view+json": {
       "model_id": "7a70092c4baf421f9d17d7122fd9297d",
       "version_major": 2,
       "version_minor": 0
      },
      "text/plain": [
       "interactive(children=(FloatSlider(value=100.0, description='temperature', max=200.0, min=0.1), IntSlider(value…"
      ]
     },
     "metadata": {},
     "output_type": "display_data"
    },
    {
     "data": {
      "text/plain": [
       "<function __main__.interactive_recuit(recuit, temperature: float, changements_temperature: int, mouvements_temperature: int, mu: float)>"
      ]
     },
     "execution_count": 9,
     "metadata": {},
     "output_type": "execute_result"
    }
   ],
   "source": [
    "from Services.Recuit import Recuit as recuit\n",
    "\n",
    "recuit_distances = tai12a.get_distance_matrix()\n",
    "recuit_connexions = tai12a.get_connexion_matrix()\n",
    "\n",
    "def interactive_voisinage(distances: list, taille:int, type = \"default\"):\n",
    "    if(taille == -1):\n",
    "        temp_vn = vn(distances, type)\n",
    "    else:\n",
    "        temp_vn = vn(distances, type, taille)\n",
    "    print(\"Permutations: \"+ \"\".join(str(e) for e in temp_vn.permutations))\n",
    "    return temp_vn\n",
    "\n",
    "interactive_recuit_vn = interactive(interactive_voisinage, distances=fixed(recuit_distances), type=[\"tout\", \"random\", \"distances\"], taille=range(-1,100))\n",
    "\n",
    "display(interactive_recuit_vn)\n",
    "\n",
    "recuit_ft = ft(recuit_connexions, recuit_distances)\n",
    "\n",
    "demo_recuit = recuit(recuit_distances, recuit_connexions, interactive_recuit_vn.result, recuit_ft)\n",
    "\n",
    "def interactive_recuit(recuit, temperature:float, changements_temperature: int, mouvements_temperature:int, mu: float):\n",
    "    solution = recuit.resolve([0,1,2,3,4,5,6,7,8,9,10,11],\n",
    "                              temperature,\n",
    "                              changements_temperature,\n",
    "                              mouvements_temperature,\n",
    "                              mu)\n",
    "    print(\"Solution: \"+ \"\".join(str(e) for e in solution))\n",
    "    print(\"Fitness: \" + str(recuit_ft.calcul(solution)))\n",
    "\n",
    "interact_manual(interactive_recuit,\n",
    "         recuit=fixed(demo_recuit),\n",
    "         temperature=(0.1,200,0.1),\n",
    "         changements_temperature=(1,100),\n",
    "         mouvements_temperature=(1,100),\n",
    "         mu=(0.1,1))"
   ]
  },
  {
   "cell_type": "markdown",
   "metadata": {},
   "source": [
    "#### Méthode Tabou"
   ]
  },
  {
   "cell_type": "markdown",
   "metadata": {},
   "source": [
    "##### Code"
   ]
  },
  {
   "cell_type": "markdown",
   "metadata": {},
   "source": [
    "La méthode de résolution du QAP par l'algorithme du Tabou a été implémenté ainsi:\n",
    "\n",
    "```python\n",
    "def resolve(self, x: list, tabousize: int, maxIter = 1000):\n",
    "    xmin = nextx = x\n",
    "    fx = fmin = fnextx = self.fitness.calcul(x)\n",
    "    tabou = []\n",
    "    tabou.append(x)\n",
    "    C = []\n",
    "\n",
    "    for i in range(0, maxIter):\n",
    "        C = self.voisinage.get_voisins(x , tabou)\n",
    "        miny = self.getMinY(C)\n",
    "        nextx = miny['x']\n",
    "        fnextx = miny['f']\n",
    "\n",
    "        deltaf = fnextx - fx\n",
    "        if (deltaf <= 0):\n",
    "            tabou.append(nextx)\n",
    "            if (len(tabou) > tabousize):\n",
    "                tabou = tabou[1:]\n",
    "        if (fnextx < fmin):\n",
    "            xmin = nextx\n",
    "            fmin = fnextx\n",
    "        x = nextx\n",
    "        fx = fnextx\n",
    "\n",
    "    return xmin\n",
    "```"
   ]
  },
  {
   "cell_type": "markdown",
   "metadata": {},
   "source": [
    "##### Explications"
   ]
  },
  {
   "cell_type": "markdown",
   "metadata": {},
   "source": [
    "Notre méthode prend en paramètres:\n",
    "* une combinaison initiale `x` tirée de notre instance.\n",
    "* la taille de notre liste tabou `tabousize`\n",
    "* un nombre maximal d'itérations `maxiter`\n",
    "\n",
    "Pour chaque emplacement, nous allons récupérer tous ses voisons qui ne sont pas déjà dans notre liste tabou. Parmi tous ces voisons, nous allons garder celui ayant la meilleure fitness.\n",
    "\n",
    "Si la différence entre la fitness du voisin et celle de notre `x` actuel est négative, alors le voisin est ajouté à la liste Tabou.\n",
    "\n",
    "Une fois le nombre de changement maximal atteind, l'algorithme nous retourne la combinaison ayant la plus petite fitness."
   ]
  },
  {
   "cell_type": "markdown",
   "metadata": {},
   "source": [
    "##### Démonstration"
   ]
  },
  {
   "cell_type": "code",
   "execution_count": 10,
   "metadata": {},
   "outputs": [
    {
     "data": {
      "application/vnd.jupyter.widget-view+json": {
       "model_id": "66a6f99ab44743fbafafa52d5f1d4d01",
       "version_major": 2,
       "version_minor": 0
      },
      "text/plain": [
       "interactive(children=(Dropdown(description='taille', options=(-1, 0, 1, 2, 3, 4, 5, 6, 7, 8, 9, 10, 11, 12, 13…"
      ]
     },
     "metadata": {},
     "output_type": "display_data"
    },
    {
     "data": {
      "application/vnd.jupyter.widget-view+json": {
       "model_id": "29b5d5b0d1b840778ef6aa5b3038fdfe",
       "version_major": 2,
       "version_minor": 0
      },
      "text/plain": [
       "interactive(children=(IntSlider(value=25, description='taille', max=50, min=1), IntSlider(value=1000, descript…"
      ]
     },
     "metadata": {},
     "output_type": "display_data"
    },
    {
     "data": {
      "text/plain": [
       "<function __main__.interactive_tabou(tabou, taille: int, maxiter=1000)>"
      ]
     },
     "execution_count": 10,
     "metadata": {},
     "output_type": "execute_result"
    }
   ],
   "source": [
    "from Services.Tabou import Tabou as tabou\n",
    "\n",
    "tabou_distances = tai12a.get_distance_matrix()\n",
    "tabou_connexions = tai12a.get_connexion_matrix()\n",
    "\n",
    "\n",
    "interactive_tabou_vn = interactive(interactive_voisinage, distances=fixed(tabou_distances), type=[\"tout\", \"random\", \"distances\"], taille=range(-1,100))\n",
    "\n",
    "display(interactive_tabou_vn)\n",
    "\n",
    "tabou_ft = ft(tabou_connexions, tabou_distances)\n",
    "\n",
    "demo_tabou = tabou(tabou_distances, tabou_connexions, interactive_tabou_vn.result, tabou_ft)\n",
    "\n",
    "def interactive_tabou(tabou, taille: int, maxiter=1000):\n",
    "    x = interactive_tabou_vn.result.get_random_x()\n",
    "    print(\"x de départ: \"+ \" \".join(str(e) for e in x))\n",
    "    \n",
    "    solution = tabou.resolve(x,\n",
    "                              taille,\n",
    "                              maxiter)\n",
    "    print(\"Solution: \"+ \" \".join(str(e) for e in solution))\n",
    "    print(\"Fitness:\" + str(tabou_ft.calcul(solution)))\n",
    "\n",
    "interact_manual(interactive_tabou,\n",
    "         tabou=fixed(demo_tabou),\n",
    "         taille=(1,50),\n",
    "         maxiter=(1,10000))"
   ]
  },
  {
   "cell_type": "markdown",
   "metadata": {},
   "source": [
    "## Analyse"
   ]
  },
  {
   "cell_type": "code",
   "execution_count": 11,
   "metadata": {},
   "outputs": [
    {
     "ename": "NameError",
     "evalue": "name 'Voisinage' is not defined",
     "output_type": "error",
     "traceback": [
      "\u001b[0;31m---------------------------------------------------------------------------\u001b[0m",
      "\u001b[0;31mNameError\u001b[0m                                 Traceback (most recent call last)",
      "\u001b[0;32m<ipython-input-11-54f1f310ff53>\u001b[0m in \u001b[0;36m<module>\u001b[0;34m\u001b[0m\n\u001b[0;32m----> 1\u001b[0;31m \u001b[0mvoisinage\u001b[0m \u001b[0;34m=\u001b[0m \u001b[0mVoisinage\u001b[0m\u001b[0;34m(\u001b[0m\u001b[0mdistances\u001b[0m\u001b[0;34m)\u001b[0m\u001b[0;34m\u001b[0m\u001b[0;34m\u001b[0m\u001b[0m\n\u001b[0m\u001b[1;32m      2\u001b[0m \u001b[0mx\u001b[0m \u001b[0;34m=\u001b[0m \u001b[0mvoisinage\u001b[0m\u001b[0;34m.\u001b[0m\u001b[0mget_random_x\u001b[0m\u001b[0;34m(\u001b[0m\u001b[0;34m)\u001b[0m\u001b[0;34m\u001b[0m\u001b[0;34m\u001b[0m\u001b[0m\n\u001b[1;32m      3\u001b[0m \u001b[0mfitness\u001b[0m \u001b[0;34m=\u001b[0m \u001b[0mFitness\u001b[0m\u001b[0;34m(\u001b[0m\u001b[0mconnexions\u001b[0m\u001b[0;34m,\u001b[0m \u001b[0mdistances\u001b[0m\u001b[0;34m)\u001b[0m\u001b[0;34m\u001b[0m\u001b[0;34m\u001b[0m\u001b[0m\n\u001b[1;32m      4\u001b[0m \u001b[0mtabou\u001b[0m \u001b[0;34m=\u001b[0m \u001b[0mTabou\u001b[0m\u001b[0;34m(\u001b[0m\u001b[0mdistances\u001b[0m\u001b[0;34m,\u001b[0m \u001b[0mconnexions\u001b[0m\u001b[0;34m,\u001b[0m \u001b[0mvoisinage\u001b[0m\u001b[0;34m,\u001b[0m \u001b[0mfitness\u001b[0m\u001b[0;34m)\u001b[0m\u001b[0;34m\u001b[0m\u001b[0;34m\u001b[0m\u001b[0m\n\u001b[1;32m      5\u001b[0m \u001b[0mprint\u001b[0m\u001b[0;34m(\u001b[0m\u001b[0mx\u001b[0m\u001b[0;34m)\u001b[0m\u001b[0;34m\u001b[0m\u001b[0;34m\u001b[0m\u001b[0m\n",
      "\u001b[0;31mNameError\u001b[0m: name 'Voisinage' is not defined"
     ]
    }
   ],
   "source": [
    "voisinage = Voisinage(distances)\n",
    "x = voisinage.get_random_x()\n",
    "fitness = Fitness(connexions, distances)\n",
    "tabou = Tabou(distances, connexions, voisinage, fitness)\n",
    "print(x)"
   ]
  },
  {
   "cell_type": "code",
   "execution_count": null,
   "metadata": {},
   "outputs": [],
   "source": [
    "from ipywidgets import interact, interactive, fixed, interact_manual\n",
    "import ipywidgets as widgets\n",
    "from IPython.display import display\n",
    "from Services.Tabou import Tabou as tb\n",
    "# out = interactive_output(voisinage.get_random_x)\n",
    "voisinage = vn(distances)\n",
    "\n",
    "interact_manual(tb.resolve, x=fixed(voisinage.get_random_x()), tabousize=range(0,10), maxIter=range(0,1000,100))\n",
    "\n",
    "print(\"solution optimale: \")\n",
    "print([7,0,5,1,10,9,2,4,8,6,11,3])\n",
    "print(\"Fitness optimale: \")\n",
    "print(fitness.calcul([7,0,5,1,10,9,2,4,8,6,11,3]))"
   ]
  },
  {
   "cell_type": "code",
   "execution_count": null,
   "metadata": {},
   "outputs": [],
   "source": [
    "a = widgets.IntSlider()\n",
    "b = widgets.IntSlider()\n",
    "c = widgets.IntSlider()\n",
    "ui = widgets.HBox([a, b, c])\n",
    "def f(a, b, c):\n",
    "    print((a, b, c))\n",
    "\n",
    "out = widgets.interactive_output(f, {'a': a, 'b': b, 'c': c})\n",
    "\n",
    "display(ui, out)"
   ]
  },
  {
   "cell_type": "markdown",
   "metadata": {},
   "source": [
    "## Conclusion\n",
    "\n",
    "Dans le cadre de ce projet, nous avons pu implémenter les algorithmes de Recuit Simulé et de Tabou qui nous ont permis de résoudre des problèmes d'affectation. Par le bia"
   ]
  }
 ],
 "metadata": {
  "kernelspec": {
   "display_name": "Python 3",
   "language": "python",
   "name": "python3"
  },
  "language_info": {
   "codemirror_mode": {
    "name": "ipython",
    "version": 3
   },
   "file_extension": ".py",
   "mimetype": "text/x-python",
   "name": "python",
   "nbconvert_exporter": "python",
   "pygments_lexer": "ipython3",
   "version": "3.7.3"
  }
 },
 "nbformat": 4,
 "nbformat_minor": 2
}
